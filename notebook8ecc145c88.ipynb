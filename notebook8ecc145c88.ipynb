{
 "cells": [
  {
   "cell_type": "markdown",
   "id": "0cabf399",
   "metadata": {
    "papermill": {
     "duration": 0.011554,
     "end_time": "2024-09-09T23:40:15.253871",
     "exception": false,
     "start_time": "2024-09-09T23:40:15.242317",
     "status": "completed"
    },
    "tags": []
   },
   "source": [
    "#  Importing Important modules"
   ]
  },
  {
   "cell_type": "code",
   "execution_count": 1,
   "id": "3a7a29d7",
   "metadata": {
    "execution": {
     "iopub.execute_input": "2024-09-09T23:40:15.275875Z",
     "iopub.status.busy": "2024-09-09T23:40:15.275484Z",
     "iopub.status.idle": "2024-09-09T23:40:29.730362Z",
     "shell.execute_reply": "2024-09-09T23:40:29.729386Z"
    },
    "papermill": {
     "duration": 14.468451,
     "end_time": "2024-09-09T23:40:29.732661",
     "exception": false,
     "start_time": "2024-09-09T23:40:15.264210",
     "status": "completed"
    },
    "tags": []
   },
   "outputs": [],
   "source": [
    "import pandas as pd\n",
    "import numpy as np\n",
    "import matplotlib.pyplot as plt\n",
    "\n",
    "\n",
    "import tensorflow as tf\n",
    "from tensorflow import keras\n",
    "\n",
    "import os\n",
    "import shutil\n",
    "import random\n",
    "\n",
    "import cv2\n",
    "import albumentations as A\n",
    "from PIL import Image"
   ]
  },
  {
   "cell_type": "markdown",
   "id": "dfa3d2db",
   "metadata": {
    "papermill": {
     "duration": 0.010001,
     "end_time": "2024-09-09T23:40:29.753472",
     "exception": false,
     "start_time": "2024-09-09T23:40:29.743471",
     "status": "completed"
    },
    "tags": []
   },
   "source": [
    "# Data Loading"
   ]
  },
  {
   "cell_type": "markdown",
   "id": "3e16f4f6",
   "metadata": {
    "papermill": {
     "duration": 0.009846,
     "end_time": "2024-09-09T23:40:29.773390",
     "exception": false,
     "start_time": "2024-09-09T23:40:29.763544",
     "status": "completed"
    },
    "tags": []
   },
   "source": [
    "* resize images to (224,224)\n",
    "* split the training data to 80% train 20% validation"
   ]
  },
  {
   "cell_type": "code",
   "execution_count": 2,
   "id": "d07c0b4e",
   "metadata": {
    "execution": {
     "iopub.execute_input": "2024-09-09T23:40:29.795241Z",
     "iopub.status.busy": "2024-09-09T23:40:29.794436Z",
     "iopub.status.idle": "2024-09-09T23:40:29.799326Z",
     "shell.execute_reply": "2024-09-09T23:40:29.798400Z"
    },
    "papermill": {
     "duration": 0.017766,
     "end_time": "2024-09-09T23:40:29.801164",
     "exception": false,
     "start_time": "2024-09-09T23:40:29.783398",
     "status": "completed"
    },
    "tags": []
   },
   "outputs": [],
   "source": [
    "image_size = (224, 224)  # Resize to this size\n",
    "batch_size = 32\n",
    "test_split = 0.2\n",
    "seed = 123\n",
    "dataset_dir = '/kaggle/input/plant-village-augmented/dataset/content/Plant_leave_diseases_dataset_with_augmentation'"
   ]
  },
  {
   "cell_type": "markdown",
   "id": "5b096b0f",
   "metadata": {
    "papermill": {
     "duration": 0.010917,
     "end_time": "2024-09-09T23:40:29.822687",
     "exception": false,
     "start_time": "2024-09-09T23:40:29.811770",
     "status": "completed"
    },
    "tags": []
   },
   "source": [
    "* using bilinear mode for resizing\n",
    "* using label encoder for the classes\n"
   ]
  },
  {
   "cell_type": "code",
   "execution_count": 3,
   "id": "5b2718fc",
   "metadata": {
    "execution": {
     "iopub.execute_input": "2024-09-09T23:40:29.846045Z",
     "iopub.status.busy": "2024-09-09T23:40:29.845762Z",
     "iopub.status.idle": "2024-09-09T23:41:16.255258Z",
     "shell.execute_reply": "2024-09-09T23:41:16.254449Z"
    },
    "papermill": {
     "duration": 46.423802,
     "end_time": "2024-09-09T23:41:16.257627",
     "exception": false,
     "start_time": "2024-09-09T23:40:29.833825",
     "status": "completed"
    },
    "tags": []
   },
   "outputs": [
    {
     "name": "stdout",
     "output_type": "stream",
     "text": [
      "Found 157521 files belonging to 39 classes.\n",
      "Using 126017 files for training.\n"
     ]
    }
   ],
   "source": [
    "train_ds = tf.keras.preprocessing.image_dataset_from_directory(\n",
    "    dataset_dir,\n",
    "    validation_split=test_split,  # Splitting dataset\n",
    "    subset=\"training\",            # Training subset\n",
    "    seed=seed,\n",
    "    image_size=image_size,        # Resizing images\n",
    "    batch_size=batch_size,\n",
    "    interpolation=\"bilinear\",\n",
    "    label_mode='int' \n",
    ")"
   ]
  },
  {
   "cell_type": "code",
   "execution_count": 4,
   "id": "65a0ca58",
   "metadata": {
    "execution": {
     "iopub.execute_input": "2024-09-09T23:41:16.280389Z",
     "iopub.status.busy": "2024-09-09T23:41:16.280061Z",
     "iopub.status.idle": "2024-09-09T23:41:41.902070Z",
     "shell.execute_reply": "2024-09-09T23:41:41.901116Z"
    },
    "papermill": {
     "duration": 25.63602,
     "end_time": "2024-09-09T23:41:41.904435",
     "exception": false,
     "start_time": "2024-09-09T23:41:16.268415",
     "status": "completed"
    },
    "tags": []
   },
   "outputs": [
    {
     "name": "stdout",
     "output_type": "stream",
     "text": [
      "Found 157521 files belonging to 39 classes.\n",
      "Using 31504 files for validation.\n"
     ]
    }
   ],
   "source": [
    "val_ds = tf.keras.preprocessing.image_dataset_from_directory(\n",
    "    dataset_dir,\n",
    "    validation_split=test_split,  # Splitting dataset\n",
    "    subset=\"validation\",          # Validation subset\n",
    "    seed=seed,\n",
    "    image_size=image_size,        # Resizing images\n",
    "    batch_size=batch_size,\n",
    "    interpolation=\"bilinear\",      # Interpolation method (you can use 'bicubic' here)\n",
    "    label_mode='int'\n",
    ")"
   ]
  },
  {
   "cell_type": "code",
   "execution_count": 5,
   "id": "5136c941",
   "metadata": {
    "execution": {
     "iopub.execute_input": "2024-09-09T23:41:41.927178Z",
     "iopub.status.busy": "2024-09-09T23:41:41.926851Z",
     "iopub.status.idle": "2024-09-09T23:41:46.439026Z",
     "shell.execute_reply": "2024-09-09T23:41:46.438052Z"
    },
    "papermill": {
     "duration": 4.526007,
     "end_time": "2024-09-09T23:41:46.441245",
     "exception": false,
     "start_time": "2024-09-09T23:41:41.915238",
     "status": "completed"
    },
    "tags": []
   },
   "outputs": [
    {
     "name": "stdout",
     "output_type": "stream",
     "text": [
      "Found 39367 files belonging to 39 classes.\n"
     ]
    }
   ],
   "source": [
    "test_dir = '/kaggle/input/plant-village-augmented/test/content/Test'\n",
    "test_ds = tf.keras.preprocessing.image_dataset_from_directory(\n",
    "    test_dir,\n",
    "    image_size=image_size,        # Resizing images\n",
    "    batch_size=batch_size,\n",
    "    interpolation=\"bilinear\"      # Interpolation method (you can use 'bicubic' here)\n",
    "    ,label_mode='int'\n",
    ")"
   ]
  },
  {
   "cell_type": "markdown",
   "id": "7b59d5c5",
   "metadata": {
    "papermill": {
     "duration": 0.010352,
     "end_time": "2024-09-09T23:41:46.462689",
     "exception": false,
     "start_time": "2024-09-09T23:41:46.452337",
     "status": "completed"
    },
    "tags": []
   },
   "source": [
    "* optimize memory and cpu for training and loading data"
   ]
  },
  {
   "cell_type": "code",
   "execution_count": 6,
   "id": "0b64e1db",
   "metadata": {
    "execution": {
     "iopub.execute_input": "2024-09-09T23:41:46.485379Z",
     "iopub.status.busy": "2024-09-09T23:41:46.484958Z",
     "iopub.status.idle": "2024-09-09T23:41:46.493172Z",
     "shell.execute_reply": "2024-09-09T23:41:46.492288Z"
    },
    "papermill": {
     "duration": 0.021771,
     "end_time": "2024-09-09T23:41:46.495013",
     "exception": false,
     "start_time": "2024-09-09T23:41:46.473242",
     "status": "completed"
    },
    "tags": []
   },
   "outputs": [],
   "source": [
    "AUTOTUNE = tf.data.AUTOTUNE\n",
    "\n",
    "train_dataset = train_ds.prefetch(buffer_size=AUTOTUNE)\n",
    "validation_dataset = val_ds.prefetch(buffer_size=AUTOTUNE)\n",
    "test_dataset = test_ds.prefetch(buffer_size=AUTOTUNE)"
   ]
  },
  {
   "cell_type": "markdown",
   "id": "e05bfbc0",
   "metadata": {
    "papermill": {
     "duration": 0.010308,
     "end_time": "2024-09-09T23:41:46.515747",
     "exception": false,
     "start_time": "2024-09-09T23:41:46.505439",
     "status": "completed"
    },
    "tags": []
   },
   "source": [
    "# building model"
   ]
  },
  {
   "cell_type": "markdown",
   "id": "2ae9fb98",
   "metadata": {
    "papermill": {
     "duration": 0.010159,
     "end_time": "2024-09-09T23:41:46.536299",
     "exception": false,
     "start_time": "2024-09-09T23:41:46.526140",
     "status": "completed"
    },
    "tags": []
   },
   "source": [
    "* function to take pretrained model and modify last layer for the outputs\n"
   ]
  },
  {
   "cell_type": "code",
   "execution_count": 7,
   "id": "c9d9282d",
   "metadata": {
    "execution": {
     "iopub.execute_input": "2024-09-09T23:41:46.558238Z",
     "iopub.status.busy": "2024-09-09T23:41:46.557931Z",
     "iopub.status.idle": "2024-09-09T23:41:46.564223Z",
     "shell.execute_reply": "2024-09-09T23:41:46.563400Z"
    },
    "papermill": {
     "duration": 0.019546,
     "end_time": "2024-09-09T23:41:46.566139",
     "exception": false,
     "start_time": "2024-09-09T23:41:46.546593",
     "status": "completed"
    },
    "tags": []
   },
   "outputs": [],
   "source": [
    "def finetune_model(model):\n",
    "    model.trainable = False\n",
    "    inputs = keras.Input(shape=(224,224,3))\n",
    "    scale_layer = keras.layers.Rescaling(scale=1 / 127.5, offset=-1)\n",
    "    x = scale_layer(inputs)\n",
    "    x = model(x, training=False)\n",
    "    x = keras.layers.GlobalAveragePooling2D()(x)\n",
    "    x = keras.layers.Dropout(0.2)(x)  # Regularize with dropout\n",
    "    outputs = keras.layers.Dense(39,activation='softmax')(x)\n",
    "    model = keras.Model(inputs, outputs)\n",
    "    model.summary(show_trainable=True)\n",
    "    return model"
   ]
  },
  {
   "cell_type": "markdown",
   "id": "e0e19078",
   "metadata": {
    "papermill": {
     "duration": 0.010162,
     "end_time": "2024-09-09T23:41:46.586652",
     "exception": false,
     "start_time": "2024-09-09T23:41:46.576490",
     "status": "completed"
    },
    "tags": []
   },
   "source": [
    "Loading the models to train on (Resnet50V2, MobileNetV2, VGG16)"
   ]
  },
  {
   "cell_type": "code",
   "execution_count": 8,
   "id": "0de94ff2",
   "metadata": {
    "execution": {
     "iopub.execute_input": "2024-09-09T23:41:46.608775Z",
     "iopub.status.busy": "2024-09-09T23:41:46.608188Z",
     "iopub.status.idle": "2024-09-09T23:41:50.583542Z",
     "shell.execute_reply": "2024-09-09T23:41:50.582759Z"
    },
    "papermill": {
     "duration": 3.988874,
     "end_time": "2024-09-09T23:41:50.585848",
     "exception": false,
     "start_time": "2024-09-09T23:41:46.596974",
     "status": "completed"
    },
    "tags": []
   },
   "outputs": [
    {
     "name": "stdout",
     "output_type": "stream",
     "text": [
      "Downloading data from https://storage.googleapis.com/tensorflow/keras-applications/resnet/resnet50v2_weights_tf_dim_ordering_tf_kernels_notop.h5\n",
      "\u001b[1m94668760/94668760\u001b[0m \u001b[32m━━━━━━━━━━━━━━━━━━━━\u001b[0m\u001b[37m\u001b[0m \u001b[1m1s\u001b[0m 0us/step\n",
      "Downloading data from https://storage.googleapis.com/tensorflow/keras-applications/mobilenet_v2/mobilenet_v2_weights_tf_dim_ordering_tf_kernels_1.0_224_no_top.h5\n",
      "\u001b[1m9406464/9406464\u001b[0m \u001b[32m━━━━━━━━━━━━━━━━━━━━\u001b[0m\u001b[37m\u001b[0m \u001b[1m0s\u001b[0m 0us/step\n",
      "Downloading data from https://storage.googleapis.com/tensorflow/keras-applications/vgg16/vgg16_weights_tf_dim_ordering_tf_kernels_notop.h5\n",
      "\u001b[1m58889256/58889256\u001b[0m \u001b[32m━━━━━━━━━━━━━━━━━━━━\u001b[0m\u001b[37m\u001b[0m \u001b[1m0s\u001b[0m 0us/step\n"
     ]
    }
   ],
   "source": [
    "resnet_model = tf.keras.applications.ResNet50V2(\n",
    "    weights=\"imagenet\",  # Load weights pre-trained on ImageNet.\n",
    "    input_shape=(224, 224, 3),\n",
    "    include_top=False,\n",
    ")\n",
    "\n",
    "mobilenet_model = tf.keras.applications.MobileNetV2(\n",
    "    weights=\"imagenet\",  # Load weights pre-trained on ImageNet.\n",
    "    input_shape=(224, 224, 3),\n",
    "    include_top=False,\n",
    ")\n",
    "\n",
    "Vggnet_model = tf.keras.applications.VGG16(\n",
    "    weights=\"imagenet\",  # Load weights pre-trained on ImageNet.\n",
    "    input_shape=(224, 224, 3),\n",
    "    include_top=False,\n",
    ")\n"
   ]
  },
  {
   "cell_type": "markdown",
   "id": "a40ba12b",
   "metadata": {
    "papermill": {
     "duration": 0.012226,
     "end_time": "2024-09-09T23:41:50.611077",
     "exception": false,
     "start_time": "2024-09-09T23:41:50.598851",
     "status": "completed"
    },
    "tags": []
   },
   "source": [
    "add models to ann array"
   ]
  },
  {
   "cell_type": "code",
   "execution_count": 9,
   "id": "441f8ecd",
   "metadata": {
    "execution": {
     "iopub.execute_input": "2024-09-09T23:41:50.636759Z",
     "iopub.status.busy": "2024-09-09T23:41:50.636404Z",
     "iopub.status.idle": "2024-09-09T23:41:50.769609Z",
     "shell.execute_reply": "2024-09-09T23:41:50.768761Z"
    },
    "papermill": {
     "duration": 0.148134,
     "end_time": "2024-09-09T23:41:50.771548",
     "exception": false,
     "start_time": "2024-09-09T23:41:50.623414",
     "status": "completed"
    },
    "tags": []
   },
   "outputs": [
    {
     "data": {
      "text/html": [
       "<pre style=\"white-space:pre;overflow-x:auto;line-height:normal;font-family:Menlo,'DejaVu Sans Mono',consolas,'Courier New',monospace\"><span style=\"font-weight: bold\">Model: \"functional_1\"</span>\n",
       "</pre>\n"
      ],
      "text/plain": [
       "\u001b[1mModel: \"functional_1\"\u001b[0m\n"
      ]
     },
     "metadata": {},
     "output_type": "display_data"
    },
    {
     "data": {
      "text/html": [
       "<pre style=\"white-space:pre;overflow-x:auto;line-height:normal;font-family:Menlo,'DejaVu Sans Mono',consolas,'Courier New',monospace\">┏━━━━━━━━━━━━━━━━━━━━━━━━━━━━━┳━━━━━━━━━━━━━━━━━━━━━━━┳━━━━━━━━━━━━┳━━━━━━━┓\n",
       "┃<span style=\"font-weight: bold\"> Layer (type)                </span>┃<span style=\"font-weight: bold\"> Output Shape          </span>┃<span style=\"font-weight: bold\">    Param # </span>┃<span style=\"font-weight: bold\"> Trai… </span>┃\n",
       "┡━━━━━━━━━━━━━━━━━━━━━━━━━━━━━╇━━━━━━━━━━━━━━━━━━━━━━━╇━━━━━━━━━━━━╇━━━━━━━┩\n",
       "│ input_layer_3 (<span style=\"color: #0087ff; text-decoration-color: #0087ff\">InputLayer</span>)  │ (<span style=\"color: #00d7ff; text-decoration-color: #00d7ff\">None</span>, <span style=\"color: #00af00; text-decoration-color: #00af00\">224</span>, <span style=\"color: #00af00; text-decoration-color: #00af00\">224</span>, <span style=\"color: #00af00; text-decoration-color: #00af00\">3</span>)   │          <span style=\"color: #00af00; text-decoration-color: #00af00\">0</span> │   <span style=\"font-weight: bold\">-</span>   │\n",
       "├─────────────────────────────┼───────────────────────┼────────────┼───────┤\n",
       "│ rescaling (<span style=\"color: #0087ff; text-decoration-color: #0087ff\">Rescaling</span>)       │ (<span style=\"color: #00d7ff; text-decoration-color: #00d7ff\">None</span>, <span style=\"color: #00af00; text-decoration-color: #00af00\">224</span>, <span style=\"color: #00af00; text-decoration-color: #00af00\">224</span>, <span style=\"color: #00af00; text-decoration-color: #00af00\">3</span>)   │          <span style=\"color: #00af00; text-decoration-color: #00af00\">0</span> │   <span style=\"font-weight: bold\">-</span>   │\n",
       "├─────────────────────────────┼───────────────────────┼────────────┼───────┤\n",
       "│ resnet50v2 (<span style=\"color: #0087ff; text-decoration-color: #0087ff\">Functional</span>)     │ (<span style=\"color: #00d7ff; text-decoration-color: #00d7ff\">None</span>, <span style=\"color: #00af00; text-decoration-color: #00af00\">7</span>, <span style=\"color: #00af00; text-decoration-color: #00af00\">7</span>, <span style=\"color: #00af00; text-decoration-color: #00af00\">2048</span>)    │ <span style=\"color: #00af00; text-decoration-color: #00af00\">23,564,800</span> │   <span style=\"color: #ff0000; text-decoration-color: #ff0000; font-weight: bold\">N</span>   │\n",
       "├─────────────────────────────┼───────────────────────┼────────────┼───────┤\n",
       "│ global_average_pooling2d    │ (<span style=\"color: #00d7ff; text-decoration-color: #00d7ff\">None</span>, <span style=\"color: #00af00; text-decoration-color: #00af00\">2048</span>)          │          <span style=\"color: #00af00; text-decoration-color: #00af00\">0</span> │   <span style=\"font-weight: bold\">-</span>   │\n",
       "│ (<span style=\"color: #0087ff; text-decoration-color: #0087ff\">GlobalAveragePooling2D</span>)    │                       │            │       │\n",
       "├─────────────────────────────┼───────────────────────┼────────────┼───────┤\n",
       "│ dropout (<span style=\"color: #0087ff; text-decoration-color: #0087ff\">Dropout</span>)           │ (<span style=\"color: #00d7ff; text-decoration-color: #00d7ff\">None</span>, <span style=\"color: #00af00; text-decoration-color: #00af00\">2048</span>)          │          <span style=\"color: #00af00; text-decoration-color: #00af00\">0</span> │   <span style=\"font-weight: bold\">-</span>   │\n",
       "├─────────────────────────────┼───────────────────────┼────────────┼───────┤\n",
       "│ dense (<span style=\"color: #0087ff; text-decoration-color: #0087ff\">Dense</span>)               │ (<span style=\"color: #00d7ff; text-decoration-color: #00d7ff\">None</span>, <span style=\"color: #00af00; text-decoration-color: #00af00\">39</span>)            │     <span style=\"color: #00af00; text-decoration-color: #00af00\">79,911</span> │   <span style=\"color: #00af00; text-decoration-color: #00af00; font-weight: bold\">Y</span>   │\n",
       "└─────────────────────────────┴───────────────────────┴────────────┴───────┘\n",
       "</pre>\n"
      ],
      "text/plain": [
       "┏━━━━━━━━━━━━━━━━━━━━━━━━━━━━━┳━━━━━━━━━━━━━━━━━━━━━━━┳━━━━━━━━━━━━┳━━━━━━━┓\n",
       "┃\u001b[1m \u001b[0m\u001b[1mLayer (type)               \u001b[0m\u001b[1m \u001b[0m┃\u001b[1m \u001b[0m\u001b[1mOutput Shape         \u001b[0m\u001b[1m \u001b[0m┃\u001b[1m \u001b[0m\u001b[1m   Param #\u001b[0m\u001b[1m \u001b[0m┃\u001b[1m \u001b[0m\u001b[1mTrai…\u001b[0m\u001b[1m \u001b[0m┃\n",
       "┡━━━━━━━━━━━━━━━━━━━━━━━━━━━━━╇━━━━━━━━━━━━━━━━━━━━━━━╇━━━━━━━━━━━━╇━━━━━━━┩\n",
       "│ input_layer_3 (\u001b[38;5;33mInputLayer\u001b[0m)  │ (\u001b[38;5;45mNone\u001b[0m, \u001b[38;5;34m224\u001b[0m, \u001b[38;5;34m224\u001b[0m, \u001b[38;5;34m3\u001b[0m)   │          \u001b[38;5;34m0\u001b[0m │   \u001b[1m-\u001b[0m   │\n",
       "├─────────────────────────────┼───────────────────────┼────────────┼───────┤\n",
       "│ rescaling (\u001b[38;5;33mRescaling\u001b[0m)       │ (\u001b[38;5;45mNone\u001b[0m, \u001b[38;5;34m224\u001b[0m, \u001b[38;5;34m224\u001b[0m, \u001b[38;5;34m3\u001b[0m)   │          \u001b[38;5;34m0\u001b[0m │   \u001b[1m-\u001b[0m   │\n",
       "├─────────────────────────────┼───────────────────────┼────────────┼───────┤\n",
       "│ resnet50v2 (\u001b[38;5;33mFunctional\u001b[0m)     │ (\u001b[38;5;45mNone\u001b[0m, \u001b[38;5;34m7\u001b[0m, \u001b[38;5;34m7\u001b[0m, \u001b[38;5;34m2048\u001b[0m)    │ \u001b[38;5;34m23,564,800\u001b[0m │   \u001b[1;91mN\u001b[0m   │\n",
       "├─────────────────────────────┼───────────────────────┼────────────┼───────┤\n",
       "│ global_average_pooling2d    │ (\u001b[38;5;45mNone\u001b[0m, \u001b[38;5;34m2048\u001b[0m)          │          \u001b[38;5;34m0\u001b[0m │   \u001b[1m-\u001b[0m   │\n",
       "│ (\u001b[38;5;33mGlobalAveragePooling2D\u001b[0m)    │                       │            │       │\n",
       "├─────────────────────────────┼───────────────────────┼────────────┼───────┤\n",
       "│ dropout (\u001b[38;5;33mDropout\u001b[0m)           │ (\u001b[38;5;45mNone\u001b[0m, \u001b[38;5;34m2048\u001b[0m)          │          \u001b[38;5;34m0\u001b[0m │   \u001b[1m-\u001b[0m   │\n",
       "├─────────────────────────────┼───────────────────────┼────────────┼───────┤\n",
       "│ dense (\u001b[38;5;33mDense\u001b[0m)               │ (\u001b[38;5;45mNone\u001b[0m, \u001b[38;5;34m39\u001b[0m)            │     \u001b[38;5;34m79,911\u001b[0m │   \u001b[1;38;5;34mY\u001b[0m   │\n",
       "└─────────────────────────────┴───────────────────────┴────────────┴───────┘\n"
      ]
     },
     "metadata": {},
     "output_type": "display_data"
    },
    {
     "data": {
      "text/html": [
       "<pre style=\"white-space:pre;overflow-x:auto;line-height:normal;font-family:Menlo,'DejaVu Sans Mono',consolas,'Courier New',monospace\"><span style=\"font-weight: bold\"> Total params: </span><span style=\"color: #00af00; text-decoration-color: #00af00\">23,644,711</span> (90.20 MB)\n",
       "</pre>\n"
      ],
      "text/plain": [
       "\u001b[1m Total params: \u001b[0m\u001b[38;5;34m23,644,711\u001b[0m (90.20 MB)\n"
      ]
     },
     "metadata": {},
     "output_type": "display_data"
    },
    {
     "data": {
      "text/html": [
       "<pre style=\"white-space:pre;overflow-x:auto;line-height:normal;font-family:Menlo,'DejaVu Sans Mono',consolas,'Courier New',monospace\"><span style=\"font-weight: bold\"> Trainable params: </span><span style=\"color: #00af00; text-decoration-color: #00af00\">79,911</span> (312.15 KB)\n",
       "</pre>\n"
      ],
      "text/plain": [
       "\u001b[1m Trainable params: \u001b[0m\u001b[38;5;34m79,911\u001b[0m (312.15 KB)\n"
      ]
     },
     "metadata": {},
     "output_type": "display_data"
    },
    {
     "data": {
      "text/html": [
       "<pre style=\"white-space:pre;overflow-x:auto;line-height:normal;font-family:Menlo,'DejaVu Sans Mono',consolas,'Courier New',monospace\"><span style=\"font-weight: bold\"> Non-trainable params: </span><span style=\"color: #00af00; text-decoration-color: #00af00\">23,564,800</span> (89.89 MB)\n",
       "</pre>\n"
      ],
      "text/plain": [
       "\u001b[1m Non-trainable params: \u001b[0m\u001b[38;5;34m23,564,800\u001b[0m (89.89 MB)\n"
      ]
     },
     "metadata": {},
     "output_type": "display_data"
    },
    {
     "data": {
      "text/html": [
       "<pre style=\"white-space:pre;overflow-x:auto;line-height:normal;font-family:Menlo,'DejaVu Sans Mono',consolas,'Courier New',monospace\"><span style=\"font-weight: bold\">Model: \"functional_3\"</span>\n",
       "</pre>\n"
      ],
      "text/plain": [
       "\u001b[1mModel: \"functional_3\"\u001b[0m\n"
      ]
     },
     "metadata": {},
     "output_type": "display_data"
    },
    {
     "data": {
      "text/html": [
       "<pre style=\"white-space:pre;overflow-x:auto;line-height:normal;font-family:Menlo,'DejaVu Sans Mono',consolas,'Courier New',monospace\">┏━━━━━━━━━━━━━━━━━━━━━━━━━━━━━┳━━━━━━━━━━━━━━━━━━━━━━━┳━━━━━━━━━━━━┳━━━━━━━┓\n",
       "┃<span style=\"font-weight: bold\"> Layer (type)                </span>┃<span style=\"font-weight: bold\"> Output Shape          </span>┃<span style=\"font-weight: bold\">    Param # </span>┃<span style=\"font-weight: bold\"> Trai… </span>┃\n",
       "┡━━━━━━━━━━━━━━━━━━━━━━━━━━━━━╇━━━━━━━━━━━━━━━━━━━━━━━╇━━━━━━━━━━━━╇━━━━━━━┩\n",
       "│ input_layer_4 (<span style=\"color: #0087ff; text-decoration-color: #0087ff\">InputLayer</span>)  │ (<span style=\"color: #00d7ff; text-decoration-color: #00d7ff\">None</span>, <span style=\"color: #00af00; text-decoration-color: #00af00\">224</span>, <span style=\"color: #00af00; text-decoration-color: #00af00\">224</span>, <span style=\"color: #00af00; text-decoration-color: #00af00\">3</span>)   │          <span style=\"color: #00af00; text-decoration-color: #00af00\">0</span> │   <span style=\"font-weight: bold\">-</span>   │\n",
       "├─────────────────────────────┼───────────────────────┼────────────┼───────┤\n",
       "│ rescaling_1 (<span style=\"color: #0087ff; text-decoration-color: #0087ff\">Rescaling</span>)     │ (<span style=\"color: #00d7ff; text-decoration-color: #00d7ff\">None</span>, <span style=\"color: #00af00; text-decoration-color: #00af00\">224</span>, <span style=\"color: #00af00; text-decoration-color: #00af00\">224</span>, <span style=\"color: #00af00; text-decoration-color: #00af00\">3</span>)   │          <span style=\"color: #00af00; text-decoration-color: #00af00\">0</span> │   <span style=\"font-weight: bold\">-</span>   │\n",
       "├─────────────────────────────┼───────────────────────┼────────────┼───────┤\n",
       "│ mobilenetv2_1.00_224        │ (<span style=\"color: #00d7ff; text-decoration-color: #00d7ff\">None</span>, <span style=\"color: #00af00; text-decoration-color: #00af00\">7</span>, <span style=\"color: #00af00; text-decoration-color: #00af00\">7</span>, <span style=\"color: #00af00; text-decoration-color: #00af00\">1280</span>)    │  <span style=\"color: #00af00; text-decoration-color: #00af00\">2,257,984</span> │   <span style=\"color: #ff0000; text-decoration-color: #ff0000; font-weight: bold\">N</span>   │\n",
       "│ (<span style=\"color: #0087ff; text-decoration-color: #0087ff\">Functional</span>)                │                       │            │       │\n",
       "├─────────────────────────────┼───────────────────────┼────────────┼───────┤\n",
       "│ global_average_pooling2d_1  │ (<span style=\"color: #00d7ff; text-decoration-color: #00d7ff\">None</span>, <span style=\"color: #00af00; text-decoration-color: #00af00\">1280</span>)          │          <span style=\"color: #00af00; text-decoration-color: #00af00\">0</span> │   <span style=\"font-weight: bold\">-</span>   │\n",
       "│ (<span style=\"color: #0087ff; text-decoration-color: #0087ff\">GlobalAveragePooling2D</span>)    │                       │            │       │\n",
       "├─────────────────────────────┼───────────────────────┼────────────┼───────┤\n",
       "│ dropout_1 (<span style=\"color: #0087ff; text-decoration-color: #0087ff\">Dropout</span>)         │ (<span style=\"color: #00d7ff; text-decoration-color: #00d7ff\">None</span>, <span style=\"color: #00af00; text-decoration-color: #00af00\">1280</span>)          │          <span style=\"color: #00af00; text-decoration-color: #00af00\">0</span> │   <span style=\"font-weight: bold\">-</span>   │\n",
       "├─────────────────────────────┼───────────────────────┼────────────┼───────┤\n",
       "│ dense_1 (<span style=\"color: #0087ff; text-decoration-color: #0087ff\">Dense</span>)             │ (<span style=\"color: #00d7ff; text-decoration-color: #00d7ff\">None</span>, <span style=\"color: #00af00; text-decoration-color: #00af00\">39</span>)            │     <span style=\"color: #00af00; text-decoration-color: #00af00\">49,959</span> │   <span style=\"color: #00af00; text-decoration-color: #00af00; font-weight: bold\">Y</span>   │\n",
       "└─────────────────────────────┴───────────────────────┴────────────┴───────┘\n",
       "</pre>\n"
      ],
      "text/plain": [
       "┏━━━━━━━━━━━━━━━━━━━━━━━━━━━━━┳━━━━━━━━━━━━━━━━━━━━━━━┳━━━━━━━━━━━━┳━━━━━━━┓\n",
       "┃\u001b[1m \u001b[0m\u001b[1mLayer (type)               \u001b[0m\u001b[1m \u001b[0m┃\u001b[1m \u001b[0m\u001b[1mOutput Shape         \u001b[0m\u001b[1m \u001b[0m┃\u001b[1m \u001b[0m\u001b[1m   Param #\u001b[0m\u001b[1m \u001b[0m┃\u001b[1m \u001b[0m\u001b[1mTrai…\u001b[0m\u001b[1m \u001b[0m┃\n",
       "┡━━━━━━━━━━━━━━━━━━━━━━━━━━━━━╇━━━━━━━━━━━━━━━━━━━━━━━╇━━━━━━━━━━━━╇━━━━━━━┩\n",
       "│ input_layer_4 (\u001b[38;5;33mInputLayer\u001b[0m)  │ (\u001b[38;5;45mNone\u001b[0m, \u001b[38;5;34m224\u001b[0m, \u001b[38;5;34m224\u001b[0m, \u001b[38;5;34m3\u001b[0m)   │          \u001b[38;5;34m0\u001b[0m │   \u001b[1m-\u001b[0m   │\n",
       "├─────────────────────────────┼───────────────────────┼────────────┼───────┤\n",
       "│ rescaling_1 (\u001b[38;5;33mRescaling\u001b[0m)     │ (\u001b[38;5;45mNone\u001b[0m, \u001b[38;5;34m224\u001b[0m, \u001b[38;5;34m224\u001b[0m, \u001b[38;5;34m3\u001b[0m)   │          \u001b[38;5;34m0\u001b[0m │   \u001b[1m-\u001b[0m   │\n",
       "├─────────────────────────────┼───────────────────────┼────────────┼───────┤\n",
       "│ mobilenetv2_1.00_224        │ (\u001b[38;5;45mNone\u001b[0m, \u001b[38;5;34m7\u001b[0m, \u001b[38;5;34m7\u001b[0m, \u001b[38;5;34m1280\u001b[0m)    │  \u001b[38;5;34m2,257,984\u001b[0m │   \u001b[1;91mN\u001b[0m   │\n",
       "│ (\u001b[38;5;33mFunctional\u001b[0m)                │                       │            │       │\n",
       "├─────────────────────────────┼───────────────────────┼────────────┼───────┤\n",
       "│ global_average_pooling2d_1  │ (\u001b[38;5;45mNone\u001b[0m, \u001b[38;5;34m1280\u001b[0m)          │          \u001b[38;5;34m0\u001b[0m │   \u001b[1m-\u001b[0m   │\n",
       "│ (\u001b[38;5;33mGlobalAveragePooling2D\u001b[0m)    │                       │            │       │\n",
       "├─────────────────────────────┼───────────────────────┼────────────┼───────┤\n",
       "│ dropout_1 (\u001b[38;5;33mDropout\u001b[0m)         │ (\u001b[38;5;45mNone\u001b[0m, \u001b[38;5;34m1280\u001b[0m)          │          \u001b[38;5;34m0\u001b[0m │   \u001b[1m-\u001b[0m   │\n",
       "├─────────────────────────────┼───────────────────────┼────────────┼───────┤\n",
       "│ dense_1 (\u001b[38;5;33mDense\u001b[0m)             │ (\u001b[38;5;45mNone\u001b[0m, \u001b[38;5;34m39\u001b[0m)            │     \u001b[38;5;34m49,959\u001b[0m │   \u001b[1;38;5;34mY\u001b[0m   │\n",
       "└─────────────────────────────┴───────────────────────┴────────────┴───────┘\n"
      ]
     },
     "metadata": {},
     "output_type": "display_data"
    },
    {
     "data": {
      "text/html": [
       "<pre style=\"white-space:pre;overflow-x:auto;line-height:normal;font-family:Menlo,'DejaVu Sans Mono',consolas,'Courier New',monospace\"><span style=\"font-weight: bold\"> Total params: </span><span style=\"color: #00af00; text-decoration-color: #00af00\">2,307,943</span> (8.80 MB)\n",
       "</pre>\n"
      ],
      "text/plain": [
       "\u001b[1m Total params: \u001b[0m\u001b[38;5;34m2,307,943\u001b[0m (8.80 MB)\n"
      ]
     },
     "metadata": {},
     "output_type": "display_data"
    },
    {
     "data": {
      "text/html": [
       "<pre style=\"white-space:pre;overflow-x:auto;line-height:normal;font-family:Menlo,'DejaVu Sans Mono',consolas,'Courier New',monospace\"><span style=\"font-weight: bold\"> Trainable params: </span><span style=\"color: #00af00; text-decoration-color: #00af00\">49,959</span> (195.15 KB)\n",
       "</pre>\n"
      ],
      "text/plain": [
       "\u001b[1m Trainable params: \u001b[0m\u001b[38;5;34m49,959\u001b[0m (195.15 KB)\n"
      ]
     },
     "metadata": {},
     "output_type": "display_data"
    },
    {
     "data": {
      "text/html": [
       "<pre style=\"white-space:pre;overflow-x:auto;line-height:normal;font-family:Menlo,'DejaVu Sans Mono',consolas,'Courier New',monospace\"><span style=\"font-weight: bold\"> Non-trainable params: </span><span style=\"color: #00af00; text-decoration-color: #00af00\">2,257,984</span> (8.61 MB)\n",
       "</pre>\n"
      ],
      "text/plain": [
       "\u001b[1m Non-trainable params: \u001b[0m\u001b[38;5;34m2,257,984\u001b[0m (8.61 MB)\n"
      ]
     },
     "metadata": {},
     "output_type": "display_data"
    },
    {
     "data": {
      "text/html": [
       "<pre style=\"white-space:pre;overflow-x:auto;line-height:normal;font-family:Menlo,'DejaVu Sans Mono',consolas,'Courier New',monospace\"><span style=\"font-weight: bold\">Model: \"functional_5\"</span>\n",
       "</pre>\n"
      ],
      "text/plain": [
       "\u001b[1mModel: \"functional_5\"\u001b[0m\n"
      ]
     },
     "metadata": {},
     "output_type": "display_data"
    },
    {
     "data": {
      "text/html": [
       "<pre style=\"white-space:pre;overflow-x:auto;line-height:normal;font-family:Menlo,'DejaVu Sans Mono',consolas,'Courier New',monospace\">┏━━━━━━━━━━━━━━━━━━━━━━━━━━━━━┳━━━━━━━━━━━━━━━━━━━━━━━┳━━━━━━━━━━━━┳━━━━━━━┓\n",
       "┃<span style=\"font-weight: bold\"> Layer (type)                </span>┃<span style=\"font-weight: bold\"> Output Shape          </span>┃<span style=\"font-weight: bold\">    Param # </span>┃<span style=\"font-weight: bold\"> Trai… </span>┃\n",
       "┡━━━━━━━━━━━━━━━━━━━━━━━━━━━━━╇━━━━━━━━━━━━━━━━━━━━━━━╇━━━━━━━━━━━━╇━━━━━━━┩\n",
       "│ input_layer_5 (<span style=\"color: #0087ff; text-decoration-color: #0087ff\">InputLayer</span>)  │ (<span style=\"color: #00d7ff; text-decoration-color: #00d7ff\">None</span>, <span style=\"color: #00af00; text-decoration-color: #00af00\">224</span>, <span style=\"color: #00af00; text-decoration-color: #00af00\">224</span>, <span style=\"color: #00af00; text-decoration-color: #00af00\">3</span>)   │          <span style=\"color: #00af00; text-decoration-color: #00af00\">0</span> │   <span style=\"font-weight: bold\">-</span>   │\n",
       "├─────────────────────────────┼───────────────────────┼────────────┼───────┤\n",
       "│ rescaling_2 (<span style=\"color: #0087ff; text-decoration-color: #0087ff\">Rescaling</span>)     │ (<span style=\"color: #00d7ff; text-decoration-color: #00d7ff\">None</span>, <span style=\"color: #00af00; text-decoration-color: #00af00\">224</span>, <span style=\"color: #00af00; text-decoration-color: #00af00\">224</span>, <span style=\"color: #00af00; text-decoration-color: #00af00\">3</span>)   │          <span style=\"color: #00af00; text-decoration-color: #00af00\">0</span> │   <span style=\"font-weight: bold\">-</span>   │\n",
       "├─────────────────────────────┼───────────────────────┼────────────┼───────┤\n",
       "│ vgg16 (<span style=\"color: #0087ff; text-decoration-color: #0087ff\">Functional</span>)          │ (<span style=\"color: #00d7ff; text-decoration-color: #00d7ff\">None</span>, <span style=\"color: #00af00; text-decoration-color: #00af00\">7</span>, <span style=\"color: #00af00; text-decoration-color: #00af00\">7</span>, <span style=\"color: #00af00; text-decoration-color: #00af00\">512</span>)     │ <span style=\"color: #00af00; text-decoration-color: #00af00\">14,714,688</span> │   <span style=\"color: #ff0000; text-decoration-color: #ff0000; font-weight: bold\">N</span>   │\n",
       "├─────────────────────────────┼───────────────────────┼────────────┼───────┤\n",
       "│ global_average_pooling2d_2  │ (<span style=\"color: #00d7ff; text-decoration-color: #00d7ff\">None</span>, <span style=\"color: #00af00; text-decoration-color: #00af00\">512</span>)           │          <span style=\"color: #00af00; text-decoration-color: #00af00\">0</span> │   <span style=\"font-weight: bold\">-</span>   │\n",
       "│ (<span style=\"color: #0087ff; text-decoration-color: #0087ff\">GlobalAveragePooling2D</span>)    │                       │            │       │\n",
       "├─────────────────────────────┼───────────────────────┼────────────┼───────┤\n",
       "│ dropout_2 (<span style=\"color: #0087ff; text-decoration-color: #0087ff\">Dropout</span>)         │ (<span style=\"color: #00d7ff; text-decoration-color: #00d7ff\">None</span>, <span style=\"color: #00af00; text-decoration-color: #00af00\">512</span>)           │          <span style=\"color: #00af00; text-decoration-color: #00af00\">0</span> │   <span style=\"font-weight: bold\">-</span>   │\n",
       "├─────────────────────────────┼───────────────────────┼────────────┼───────┤\n",
       "│ dense_2 (<span style=\"color: #0087ff; text-decoration-color: #0087ff\">Dense</span>)             │ (<span style=\"color: #00d7ff; text-decoration-color: #00d7ff\">None</span>, <span style=\"color: #00af00; text-decoration-color: #00af00\">39</span>)            │     <span style=\"color: #00af00; text-decoration-color: #00af00\">20,007</span> │   <span style=\"color: #00af00; text-decoration-color: #00af00; font-weight: bold\">Y</span>   │\n",
       "└─────────────────────────────┴───────────────────────┴────────────┴───────┘\n",
       "</pre>\n"
      ],
      "text/plain": [
       "┏━━━━━━━━━━━━━━━━━━━━━━━━━━━━━┳━━━━━━━━━━━━━━━━━━━━━━━┳━━━━━━━━━━━━┳━━━━━━━┓\n",
       "┃\u001b[1m \u001b[0m\u001b[1mLayer (type)               \u001b[0m\u001b[1m \u001b[0m┃\u001b[1m \u001b[0m\u001b[1mOutput Shape         \u001b[0m\u001b[1m \u001b[0m┃\u001b[1m \u001b[0m\u001b[1m   Param #\u001b[0m\u001b[1m \u001b[0m┃\u001b[1m \u001b[0m\u001b[1mTrai…\u001b[0m\u001b[1m \u001b[0m┃\n",
       "┡━━━━━━━━━━━━━━━━━━━━━━━━━━━━━╇━━━━━━━━━━━━━━━━━━━━━━━╇━━━━━━━━━━━━╇━━━━━━━┩\n",
       "│ input_layer_5 (\u001b[38;5;33mInputLayer\u001b[0m)  │ (\u001b[38;5;45mNone\u001b[0m, \u001b[38;5;34m224\u001b[0m, \u001b[38;5;34m224\u001b[0m, \u001b[38;5;34m3\u001b[0m)   │          \u001b[38;5;34m0\u001b[0m │   \u001b[1m-\u001b[0m   │\n",
       "├─────────────────────────────┼───────────────────────┼────────────┼───────┤\n",
       "│ rescaling_2 (\u001b[38;5;33mRescaling\u001b[0m)     │ (\u001b[38;5;45mNone\u001b[0m, \u001b[38;5;34m224\u001b[0m, \u001b[38;5;34m224\u001b[0m, \u001b[38;5;34m3\u001b[0m)   │          \u001b[38;5;34m0\u001b[0m │   \u001b[1m-\u001b[0m   │\n",
       "├─────────────────────────────┼───────────────────────┼────────────┼───────┤\n",
       "│ vgg16 (\u001b[38;5;33mFunctional\u001b[0m)          │ (\u001b[38;5;45mNone\u001b[0m, \u001b[38;5;34m7\u001b[0m, \u001b[38;5;34m7\u001b[0m, \u001b[38;5;34m512\u001b[0m)     │ \u001b[38;5;34m14,714,688\u001b[0m │   \u001b[1;91mN\u001b[0m   │\n",
       "├─────────────────────────────┼───────────────────────┼────────────┼───────┤\n",
       "│ global_average_pooling2d_2  │ (\u001b[38;5;45mNone\u001b[0m, \u001b[38;5;34m512\u001b[0m)           │          \u001b[38;5;34m0\u001b[0m │   \u001b[1m-\u001b[0m   │\n",
       "│ (\u001b[38;5;33mGlobalAveragePooling2D\u001b[0m)    │                       │            │       │\n",
       "├─────────────────────────────┼───────────────────────┼────────────┼───────┤\n",
       "│ dropout_2 (\u001b[38;5;33mDropout\u001b[0m)         │ (\u001b[38;5;45mNone\u001b[0m, \u001b[38;5;34m512\u001b[0m)           │          \u001b[38;5;34m0\u001b[0m │   \u001b[1m-\u001b[0m   │\n",
       "├─────────────────────────────┼───────────────────────┼────────────┼───────┤\n",
       "│ dense_2 (\u001b[38;5;33mDense\u001b[0m)             │ (\u001b[38;5;45mNone\u001b[0m, \u001b[38;5;34m39\u001b[0m)            │     \u001b[38;5;34m20,007\u001b[0m │   \u001b[1;38;5;34mY\u001b[0m   │\n",
       "└─────────────────────────────┴───────────────────────┴────────────┴───────┘\n"
      ]
     },
     "metadata": {},
     "output_type": "display_data"
    },
    {
     "data": {
      "text/html": [
       "<pre style=\"white-space:pre;overflow-x:auto;line-height:normal;font-family:Menlo,'DejaVu Sans Mono',consolas,'Courier New',monospace\"><span style=\"font-weight: bold\"> Total params: </span><span style=\"color: #00af00; text-decoration-color: #00af00\">14,734,695</span> (56.21 MB)\n",
       "</pre>\n"
      ],
      "text/plain": [
       "\u001b[1m Total params: \u001b[0m\u001b[38;5;34m14,734,695\u001b[0m (56.21 MB)\n"
      ]
     },
     "metadata": {},
     "output_type": "display_data"
    },
    {
     "data": {
      "text/html": [
       "<pre style=\"white-space:pre;overflow-x:auto;line-height:normal;font-family:Menlo,'DejaVu Sans Mono',consolas,'Courier New',monospace\"><span style=\"font-weight: bold\"> Trainable params: </span><span style=\"color: #00af00; text-decoration-color: #00af00\">20,007</span> (78.15 KB)\n",
       "</pre>\n"
      ],
      "text/plain": [
       "\u001b[1m Trainable params: \u001b[0m\u001b[38;5;34m20,007\u001b[0m (78.15 KB)\n"
      ]
     },
     "metadata": {},
     "output_type": "display_data"
    },
    {
     "data": {
      "text/html": [
       "<pre style=\"white-space:pre;overflow-x:auto;line-height:normal;font-family:Menlo,'DejaVu Sans Mono',consolas,'Courier New',monospace\"><span style=\"font-weight: bold\"> Non-trainable params: </span><span style=\"color: #00af00; text-decoration-color: #00af00\">14,714,688</span> (56.13 MB)\n",
       "</pre>\n"
      ],
      "text/plain": [
       "\u001b[1m Non-trainable params: \u001b[0m\u001b[38;5;34m14,714,688\u001b[0m (56.13 MB)\n"
      ]
     },
     "metadata": {},
     "output_type": "display_data"
    }
   ],
   "source": [
    "models = [finetune_model(resnet_model),finetune_model(mobilenet_model),finetune_model(Vggnet_model)]"
   ]
  },
  {
   "cell_type": "markdown",
   "id": "f0f59636",
   "metadata": {
    "papermill": {
     "duration": 0.015725,
     "end_time": "2024-09-09T23:41:50.803425",
     "exception": false,
     "start_time": "2024-09-09T23:41:50.787700",
     "status": "completed"
    },
    "tags": []
   },
   "source": [
    "# Model Sampling Test\n",
    "take a sample to train on to eliminate one of the models"
   ]
  },
  {
   "cell_type": "code",
   "execution_count": 10,
   "id": "924b3a87",
   "metadata": {
    "execution": {
     "iopub.execute_input": "2024-09-09T23:41:50.839335Z",
     "iopub.status.busy": "2024-09-09T23:41:50.839008Z",
     "iopub.status.idle": "2024-09-09T23:41:50.847173Z",
     "shell.execute_reply": "2024-09-09T23:41:50.846364Z"
    },
    "papermill": {
     "duration": 0.028599,
     "end_time": "2024-09-09T23:41:50.849318",
     "exception": false,
     "start_time": "2024-09-09T23:41:50.820719",
     "status": "completed"
    },
    "tags": []
   },
   "outputs": [],
   "source": [
    "subset_train_ds = train_ds.take(25250)"
   ]
  },
  {
   "cell_type": "code",
   "execution_count": 11,
   "id": "891855ec",
   "metadata": {
    "execution": {
     "iopub.execute_input": "2024-09-09T23:41:50.886496Z",
     "iopub.status.busy": "2024-09-09T23:41:50.886161Z",
     "iopub.status.idle": "2024-09-09T23:41:50.891523Z",
     "shell.execute_reply": "2024-09-09T23:41:50.890699Z"
    },
    "papermill": {
     "duration": 0.027088,
     "end_time": "2024-09-09T23:41:50.893787",
     "exception": false,
     "start_time": "2024-09-09T23:41:50.866699",
     "status": "completed"
    },
    "tags": []
   },
   "outputs": [],
   "source": [
    "subset_val_ds = val_ds.take(5000)"
   ]
  },
  {
   "cell_type": "code",
   "execution_count": 12,
   "id": "7a545757",
   "metadata": {
    "execution": {
     "iopub.execute_input": "2024-09-09T23:41:50.929357Z",
     "iopub.status.busy": "2024-09-09T23:41:50.929031Z",
     "iopub.status.idle": "2024-09-09T23:41:50.933303Z",
     "shell.execute_reply": "2024-09-09T23:41:50.932449Z"
    },
    "papermill": {
     "duration": 0.024178,
     "end_time": "2024-09-09T23:41:50.935152",
     "exception": false,
     "start_time": "2024-09-09T23:41:50.910974",
     "status": "completed"
    },
    "tags": []
   },
   "outputs": [],
   "source": [
    "model_names = ['Resnet50 V2','MobileNet V2', \"VggNet 16\"]"
   ]
  },
  {
   "cell_type": "code",
   "execution_count": 13,
   "id": "9fab9be9",
   "metadata": {
    "execution": {
     "iopub.execute_input": "2024-09-09T23:41:50.966009Z",
     "iopub.status.busy": "2024-09-09T23:41:50.965707Z",
     "iopub.status.idle": "2024-09-09T23:54:01.380848Z",
     "shell.execute_reply": "2024-09-09T23:54:01.379820Z"
    },
    "papermill": {
     "duration": 730.592856,
     "end_time": "2024-09-09T23:54:01.542705",
     "exception": false,
     "start_time": "2024-09-09T23:41:50.949849",
     "status": "completed"
    },
    "tags": []
   },
   "outputs": [
    {
     "name": "stdout",
     "output_type": "stream",
     "text": [
      "training for model: Resnet50 V2\n",
      "Epoch 1/5\n"
     ]
    },
    {
     "name": "stderr",
     "output_type": "stream",
     "text": [
      "WARNING: All log messages before absl::InitializeLog() is called are written to STDERR\n",
      "I0000 00:00:1725925316.898183      72 service.cc:145] XLA service 0x7cac5c0014d0 initialized for platform CUDA (this does not guarantee that XLA will be used). Devices:\n",
      "I0000 00:00:1725925316.898233      72 service.cc:153]   StreamExecutor device (0): Tesla P100-PCIE-16GB, Compute Capability 6.0\n"
     ]
    },
    {
     "name": "stdout",
     "output_type": "stream",
     "text": [
      "\u001b[1m  5/200\u001b[0m \u001b[37m━━━━━━━━━━━━━━━━━━━━\u001b[0m \u001b[1m7s\u001b[0m 39ms/step - accuracy: 0.0053 - loss: 4.3826    "
     ]
    },
    {
     "name": "stderr",
     "output_type": "stream",
     "text": [
      "I0000 00:00:1725925323.480204      72 device_compiler.h:188] Compiled cluster using XLA!  This line is logged at most once for the lifetime of the process.\n"
     ]
    },
    {
     "name": "stdout",
     "output_type": "stream",
     "text": [
      "\u001b[1m200/200\u001b[0m \u001b[32m━━━━━━━━━━━━━━━━━━━━\u001b[0m\u001b[37m\u001b[0m \u001b[1m64s\u001b[0m 256ms/step - accuracy: 0.3261 - loss: 2.6048 - val_accuracy: 0.6857 - val_loss: 1.1111\n",
      "Epoch 2/5\n",
      "\u001b[1m200/200\u001b[0m \u001b[32m━━━━━━━━━━━━━━━━━━━━\u001b[0m\u001b[37m\u001b[0m \u001b[1m43s\u001b[0m 216ms/step - accuracy: 0.6649 - loss: 1.1338 - val_accuracy: 0.7403 - val_loss: 0.8751\n",
      "Epoch 3/5\n",
      "\u001b[1m200/200\u001b[0m \u001b[32m━━━━━━━━━━━━━━━━━━━━\u001b[0m\u001b[37m\u001b[0m \u001b[1m43s\u001b[0m 217ms/step - accuracy: 0.7041 - loss: 0.9764 - val_accuracy: 0.7591 - val_loss: 0.7895\n",
      "Epoch 4/5\n",
      "\u001b[1m200/200\u001b[0m \u001b[32m━━━━━━━━━━━━━━━━━━━━\u001b[0m\u001b[37m\u001b[0m \u001b[1m43s\u001b[0m 217ms/step - accuracy: 0.7393 - loss: 0.8874 - val_accuracy: 0.7821 - val_loss: 0.7092\n",
      "Epoch 5/5\n",
      "\u001b[1m200/200\u001b[0m \u001b[32m━━━━━━━━━━━━━━━━━━━━\u001b[0m\u001b[37m\u001b[0m \u001b[1m43s\u001b[0m 217ms/step - accuracy: 0.7574 - loss: 0.7840 - val_accuracy: 0.7941 - val_loss: 0.6767\n",
      "training for model: MobileNet V2\n",
      "Epoch 1/5\n",
      "\u001b[1m200/200\u001b[0m \u001b[32m━━━━━━━━━━━━━━━━━━━━\u001b[0m\u001b[37m\u001b[0m \u001b[1m36s\u001b[0m 135ms/step - accuracy: 0.2751 - loss: 2.8568 - val_accuracy: 0.6226 - val_loss: 1.3430\n",
      "Epoch 2/5\n",
      "\u001b[1m200/200\u001b[0m \u001b[32m━━━━━━━━━━━━━━━━━━━━\u001b[0m\u001b[37m\u001b[0m \u001b[1m22s\u001b[0m 109ms/step - accuracy: 0.6038 - loss: 1.3583 - val_accuracy: 0.6765 - val_loss: 1.0924\n",
      "Epoch 3/5\n",
      "\u001b[1m200/200\u001b[0m \u001b[32m━━━━━━━━━━━━━━━━━━━━\u001b[0m\u001b[37m\u001b[0m \u001b[1m22s\u001b[0m 110ms/step - accuracy: 0.6298 - loss: 1.2067 - val_accuracy: 0.7093 - val_loss: 0.9613\n",
      "Epoch 4/5\n",
      "\u001b[1m200/200\u001b[0m \u001b[32m━━━━━━━━━━━━━━━━━━━━\u001b[0m\u001b[37m\u001b[0m \u001b[1m22s\u001b[0m 110ms/step - accuracy: 0.6737 - loss: 1.0588 - val_accuracy: 0.7274 - val_loss: 0.8931\n",
      "Epoch 5/5\n",
      "\u001b[1m200/200\u001b[0m \u001b[32m━━━━━━━━━━━━━━━━━━━━\u001b[0m\u001b[37m\u001b[0m \u001b[1m22s\u001b[0m 109ms/step - accuracy: 0.7036 - loss: 0.9681 - val_accuracy: 0.7306 - val_loss: 0.8831\n",
      "training for model: VggNet 16\n",
      "Epoch 1/5\n",
      "\u001b[1m200/200\u001b[0m \u001b[32m━━━━━━━━━━━━━━━━━━━━\u001b[0m\u001b[37m\u001b[0m \u001b[1m86s\u001b[0m 383ms/step - accuracy: 0.0902 - loss: 3.5775 - val_accuracy: 0.3696 - val_loss: 2.9257\n",
      "Epoch 2/5\n",
      "\u001b[1m200/200\u001b[0m \u001b[32m━━━━━━━━━━━━━━━━━━━━\u001b[0m\u001b[37m\u001b[0m \u001b[1m71s\u001b[0m 357ms/step - accuracy: 0.3314 - loss: 2.8614 - val_accuracy: 0.4899 - val_loss: 2.4707\n",
      "Epoch 3/5\n",
      "\u001b[1m200/200\u001b[0m \u001b[32m━━━━━━━━━━━━━━━━━━━━\u001b[0m\u001b[37m\u001b[0m \u001b[1m71s\u001b[0m 357ms/step - accuracy: 0.4476 - loss: 2.4436 - val_accuracy: 0.5133 - val_loss: 2.1930\n",
      "Epoch 4/5\n",
      "\u001b[1m200/200\u001b[0m \u001b[32m━━━━━━━━━━━━━━━━━━━━\u001b[0m\u001b[37m\u001b[0m \u001b[1m71s\u001b[0m 357ms/step - accuracy: 0.4887 - loss: 2.1886 - val_accuracy: 0.5721 - val_loss: 1.9835\n",
      "Epoch 5/5\n",
      "\u001b[1m200/200\u001b[0m \u001b[32m━━━━━━━━━━━━━━━━━━━━\u001b[0m\u001b[37m\u001b[0m \u001b[1m71s\u001b[0m 357ms/step - accuracy: 0.5333 - loss: 1.9852 - val_accuracy: 0.5917 - val_loss: 1.8413\n"
     ]
    }
   ],
   "source": [
    "models_outputs = []\n",
    "for i,model in enumerate(models):\n",
    "    print(\"training for model: \"+ model_names[i])\n",
    "    model.compile(loss=tf.keras.losses.SparseCategoricalCrossentropy(from_logits=False)\n",
    "    , optimizer = 'adam', metrics = ['accuracy'])\n",
    "    model.fit(subset_train_ds, epochs=5,steps_per_epoch = 200, validation_data=subset_val_ds)\n",
    "    models_outputs.append(model)"
   ]
  },
  {
   "cell_type": "code",
   "execution_count": 14,
   "id": "36026a80",
   "metadata": {
    "execution": {
     "iopub.execute_input": "2024-09-09T23:54:01.864337Z",
     "iopub.status.busy": "2024-09-09T23:54:01.863956Z",
     "iopub.status.idle": "2024-09-09T23:54:01.870234Z",
     "shell.execute_reply": "2024-09-09T23:54:01.869356Z"
    },
    "papermill": {
     "duration": 0.169246,
     "end_time": "2024-09-09T23:54:01.872241",
     "exception": false,
     "start_time": "2024-09-09T23:54:01.702995",
     "status": "completed"
    },
    "tags": []
   },
   "outputs": [],
   "source": [
    "test_subset = test_ds.take(1000)\n",
    "    "
   ]
  },
  {
   "cell_type": "code",
   "execution_count": 15,
   "id": "fb78cb56",
   "metadata": {
    "execution": {
     "iopub.execute_input": "2024-09-09T23:54:02.196835Z",
     "iopub.status.busy": "2024-09-09T23:54:02.195994Z",
     "iopub.status.idle": "2024-09-09T23:56:01.333116Z",
     "shell.execute_reply": "2024-09-09T23:56:01.332283Z"
    },
    "papermill": {
     "duration": 119.299107,
     "end_time": "2024-09-09T23:56:01.335118",
     "exception": false,
     "start_time": "2024-09-09T23:54:02.036011",
     "status": "completed"
    },
    "tags": []
   },
   "outputs": [
    {
     "name": "stdout",
     "output_type": "stream",
     "text": [
      "\u001b[1m1000/1000\u001b[0m \u001b[32m━━━━━━━━━━━━━━━━━━━━\u001b[0m\u001b[37m\u001b[0m \u001b[1m38s\u001b[0m 38ms/step - accuracy: 0.7870 - loss: 0.6988\n",
      "\u001b[1m1000/1000\u001b[0m \u001b[32m━━━━━━━━━━━━━━━━━━━━\u001b[0m\u001b[37m\u001b[0m \u001b[1m19s\u001b[0m 19ms/step - accuracy: 0.7279 - loss: 0.8866\n",
      "\u001b[1m1000/1000\u001b[0m \u001b[32m━━━━━━━━━━━━━━━━━━━━\u001b[0m\u001b[37m\u001b[0m \u001b[1m62s\u001b[0m 62ms/step - accuracy: 0.5918 - loss: 1.8498\n"
     ]
    }
   ],
   "source": [
    "for model in models_outputs:\n",
    "    model.evaluate(test_subset)"
   ]
  },
  {
   "cell_type": "markdown",
   "id": "122134ed",
   "metadata": {
    "papermill": {
     "duration": 0.347827,
     "end_time": "2024-09-09T23:56:01.995457",
     "exception": false,
     "start_time": "2024-09-09T23:56:01.647630",
     "status": "completed"
    },
    "tags": []
   },
   "source": [
    "Vgg has the lowest performance so it will be Eliminated and i will continue with ResnetV250 and MobileNet with adjustments"
   ]
  },
  {
   "cell_type": "markdown",
   "id": "8cedd227",
   "metadata": {
    "papermill": {
     "duration": 0.301716,
     "end_time": "2024-09-09T23:56:02.605637",
     "exception": false,
     "start_time": "2024-09-09T23:56:02.303921",
     "status": "completed"
    },
    "tags": []
   },
   "source": [
    "# ResnetV2 50 Model"
   ]
  },
  {
   "cell_type": "code",
   "execution_count": 16,
   "id": "1d92034f",
   "metadata": {
    "execution": {
     "iopub.execute_input": "2024-09-09T23:56:03.215903Z",
     "iopub.status.busy": "2024-09-09T23:56:03.215491Z",
     "iopub.status.idle": "2024-09-09T23:56:04.280129Z",
     "shell.execute_reply": "2024-09-09T23:56:04.279241Z"
    },
    "papermill": {
     "duration": 1.37263,
     "end_time": "2024-09-09T23:56:04.282353",
     "exception": false,
     "start_time": "2024-09-09T23:56:02.909723",
     "status": "completed"
    },
    "tags": []
   },
   "outputs": [],
   "source": [
    "resnet_model = tf.keras.applications.ResNet50V2(\n",
    "    weights=\"imagenet\",  # Load weights pre-trained on ImageNet.\n",
    "    input_shape=(224, 224, 3),\n",
    "    include_top=False,\n",
    ")"
   ]
  },
  {
   "cell_type": "code",
   "execution_count": 17,
   "id": "26e0db70",
   "metadata": {
    "execution": {
     "iopub.execute_input": "2024-09-09T23:56:04.931142Z",
     "iopub.status.busy": "2024-09-09T23:56:04.930774Z",
     "iopub.status.idle": "2024-09-09T23:56:05.007074Z",
     "shell.execute_reply": "2024-09-09T23:56:05.006173Z"
    },
    "papermill": {
     "duration": 0.422128,
     "end_time": "2024-09-09T23:56:05.008919",
     "exception": false,
     "start_time": "2024-09-09T23:56:04.586791",
     "status": "completed"
    },
    "tags": []
   },
   "outputs": [
    {
     "data": {
      "text/html": [
       "<pre style=\"white-space:pre;overflow-x:auto;line-height:normal;font-family:Menlo,'DejaVu Sans Mono',consolas,'Courier New',monospace\"><span style=\"font-weight: bold\">Model: \"functional_7\"</span>\n",
       "</pre>\n"
      ],
      "text/plain": [
       "\u001b[1mModel: \"functional_7\"\u001b[0m\n"
      ]
     },
     "metadata": {},
     "output_type": "display_data"
    },
    {
     "data": {
      "text/html": [
       "<pre style=\"white-space:pre;overflow-x:auto;line-height:normal;font-family:Menlo,'DejaVu Sans Mono',consolas,'Courier New',monospace\">┏━━━━━━━━━━━━━━━━━━━━━━━━━━━━━┳━━━━━━━━━━━━━━━━━━━━━━━┳━━━━━━━━━━━━┳━━━━━━━┓\n",
       "┃<span style=\"font-weight: bold\"> Layer (type)                </span>┃<span style=\"font-weight: bold\"> Output Shape          </span>┃<span style=\"font-weight: bold\">    Param # </span>┃<span style=\"font-weight: bold\"> Trai… </span>┃\n",
       "┡━━━━━━━━━━━━━━━━━━━━━━━━━━━━━╇━━━━━━━━━━━━━━━━━━━━━━━╇━━━━━━━━━━━━╇━━━━━━━┩\n",
       "│ input_layer_7 (<span style=\"color: #0087ff; text-decoration-color: #0087ff\">InputLayer</span>)  │ (<span style=\"color: #00d7ff; text-decoration-color: #00d7ff\">None</span>, <span style=\"color: #00af00; text-decoration-color: #00af00\">224</span>, <span style=\"color: #00af00; text-decoration-color: #00af00\">224</span>, <span style=\"color: #00af00; text-decoration-color: #00af00\">3</span>)   │          <span style=\"color: #00af00; text-decoration-color: #00af00\">0</span> │   <span style=\"font-weight: bold\">-</span>   │\n",
       "├─────────────────────────────┼───────────────────────┼────────────┼───────┤\n",
       "│ rescaling_3 (<span style=\"color: #0087ff; text-decoration-color: #0087ff\">Rescaling</span>)     │ (<span style=\"color: #00d7ff; text-decoration-color: #00d7ff\">None</span>, <span style=\"color: #00af00; text-decoration-color: #00af00\">224</span>, <span style=\"color: #00af00; text-decoration-color: #00af00\">224</span>, <span style=\"color: #00af00; text-decoration-color: #00af00\">3</span>)   │          <span style=\"color: #00af00; text-decoration-color: #00af00\">0</span> │   <span style=\"font-weight: bold\">-</span>   │\n",
       "├─────────────────────────────┼───────────────────────┼────────────┼───────┤\n",
       "│ resnet50v2 (<span style=\"color: #0087ff; text-decoration-color: #0087ff\">Functional</span>)     │ (<span style=\"color: #00d7ff; text-decoration-color: #00d7ff\">None</span>, <span style=\"color: #00af00; text-decoration-color: #00af00\">7</span>, <span style=\"color: #00af00; text-decoration-color: #00af00\">7</span>, <span style=\"color: #00af00; text-decoration-color: #00af00\">2048</span>)    │ <span style=\"color: #00af00; text-decoration-color: #00af00\">23,564,800</span> │   <span style=\"color: #ff0000; text-decoration-color: #ff0000; font-weight: bold\">N</span>   │\n",
       "├─────────────────────────────┼───────────────────────┼────────────┼───────┤\n",
       "│ global_average_pooling2d_3  │ (<span style=\"color: #00d7ff; text-decoration-color: #00d7ff\">None</span>, <span style=\"color: #00af00; text-decoration-color: #00af00\">2048</span>)          │          <span style=\"color: #00af00; text-decoration-color: #00af00\">0</span> │   <span style=\"font-weight: bold\">-</span>   │\n",
       "│ (<span style=\"color: #0087ff; text-decoration-color: #0087ff\">GlobalAveragePooling2D</span>)    │                       │            │       │\n",
       "├─────────────────────────────┼───────────────────────┼────────────┼───────┤\n",
       "│ dense_3 (<span style=\"color: #0087ff; text-decoration-color: #0087ff\">Dense</span>)             │ (<span style=\"color: #00d7ff; text-decoration-color: #00d7ff\">None</span>, <span style=\"color: #00af00; text-decoration-color: #00af00\">256</span>)           │    <span style=\"color: #00af00; text-decoration-color: #00af00\">524,544</span> │   <span style=\"color: #00af00; text-decoration-color: #00af00; font-weight: bold\">Y</span>   │\n",
       "├─────────────────────────────┼───────────────────────┼────────────┼───────┤\n",
       "│ dense_4 (<span style=\"color: #0087ff; text-decoration-color: #0087ff\">Dense</span>)             │ (<span style=\"color: #00d7ff; text-decoration-color: #00d7ff\">None</span>, <span style=\"color: #00af00; text-decoration-color: #00af00\">128</span>)           │     <span style=\"color: #00af00; text-decoration-color: #00af00\">32,896</span> │   <span style=\"color: #00af00; text-decoration-color: #00af00; font-weight: bold\">Y</span>   │\n",
       "├─────────────────────────────┼───────────────────────┼────────────┼───────┤\n",
       "│ dense_5 (<span style=\"color: #0087ff; text-decoration-color: #0087ff\">Dense</span>)             │ (<span style=\"color: #00d7ff; text-decoration-color: #00d7ff\">None</span>, <span style=\"color: #00af00; text-decoration-color: #00af00\">64</span>)            │      <span style=\"color: #00af00; text-decoration-color: #00af00\">8,256</span> │   <span style=\"color: #00af00; text-decoration-color: #00af00; font-weight: bold\">Y</span>   │\n",
       "├─────────────────────────────┼───────────────────────┼────────────┼───────┤\n",
       "│ dense_6 (<span style=\"color: #0087ff; text-decoration-color: #0087ff\">Dense</span>)             │ (<span style=\"color: #00d7ff; text-decoration-color: #00d7ff\">None</span>, <span style=\"color: #00af00; text-decoration-color: #00af00\">39</span>)            │      <span style=\"color: #00af00; text-decoration-color: #00af00\">2,535</span> │   <span style=\"color: #00af00; text-decoration-color: #00af00; font-weight: bold\">Y</span>   │\n",
       "└─────────────────────────────┴───────────────────────┴────────────┴───────┘\n",
       "</pre>\n"
      ],
      "text/plain": [
       "┏━━━━━━━━━━━━━━━━━━━━━━━━━━━━━┳━━━━━━━━━━━━━━━━━━━━━━━┳━━━━━━━━━━━━┳━━━━━━━┓\n",
       "┃\u001b[1m \u001b[0m\u001b[1mLayer (type)               \u001b[0m\u001b[1m \u001b[0m┃\u001b[1m \u001b[0m\u001b[1mOutput Shape         \u001b[0m\u001b[1m \u001b[0m┃\u001b[1m \u001b[0m\u001b[1m   Param #\u001b[0m\u001b[1m \u001b[0m┃\u001b[1m \u001b[0m\u001b[1mTrai…\u001b[0m\u001b[1m \u001b[0m┃\n",
       "┡━━━━━━━━━━━━━━━━━━━━━━━━━━━━━╇━━━━━━━━━━━━━━━━━━━━━━━╇━━━━━━━━━━━━╇━━━━━━━┩\n",
       "│ input_layer_7 (\u001b[38;5;33mInputLayer\u001b[0m)  │ (\u001b[38;5;45mNone\u001b[0m, \u001b[38;5;34m224\u001b[0m, \u001b[38;5;34m224\u001b[0m, \u001b[38;5;34m3\u001b[0m)   │          \u001b[38;5;34m0\u001b[0m │   \u001b[1m-\u001b[0m   │\n",
       "├─────────────────────────────┼───────────────────────┼────────────┼───────┤\n",
       "│ rescaling_3 (\u001b[38;5;33mRescaling\u001b[0m)     │ (\u001b[38;5;45mNone\u001b[0m, \u001b[38;5;34m224\u001b[0m, \u001b[38;5;34m224\u001b[0m, \u001b[38;5;34m3\u001b[0m)   │          \u001b[38;5;34m0\u001b[0m │   \u001b[1m-\u001b[0m   │\n",
       "├─────────────────────────────┼───────────────────────┼────────────┼───────┤\n",
       "│ resnet50v2 (\u001b[38;5;33mFunctional\u001b[0m)     │ (\u001b[38;5;45mNone\u001b[0m, \u001b[38;5;34m7\u001b[0m, \u001b[38;5;34m7\u001b[0m, \u001b[38;5;34m2048\u001b[0m)    │ \u001b[38;5;34m23,564,800\u001b[0m │   \u001b[1;91mN\u001b[0m   │\n",
       "├─────────────────────────────┼───────────────────────┼────────────┼───────┤\n",
       "│ global_average_pooling2d_3  │ (\u001b[38;5;45mNone\u001b[0m, \u001b[38;5;34m2048\u001b[0m)          │          \u001b[38;5;34m0\u001b[0m │   \u001b[1m-\u001b[0m   │\n",
       "│ (\u001b[38;5;33mGlobalAveragePooling2D\u001b[0m)    │                       │            │       │\n",
       "├─────────────────────────────┼───────────────────────┼────────────┼───────┤\n",
       "│ dense_3 (\u001b[38;5;33mDense\u001b[0m)             │ (\u001b[38;5;45mNone\u001b[0m, \u001b[38;5;34m256\u001b[0m)           │    \u001b[38;5;34m524,544\u001b[0m │   \u001b[1;38;5;34mY\u001b[0m   │\n",
       "├─────────────────────────────┼───────────────────────┼────────────┼───────┤\n",
       "│ dense_4 (\u001b[38;5;33mDense\u001b[0m)             │ (\u001b[38;5;45mNone\u001b[0m, \u001b[38;5;34m128\u001b[0m)           │     \u001b[38;5;34m32,896\u001b[0m │   \u001b[1;38;5;34mY\u001b[0m   │\n",
       "├─────────────────────────────┼───────────────────────┼────────────┼───────┤\n",
       "│ dense_5 (\u001b[38;5;33mDense\u001b[0m)             │ (\u001b[38;5;45mNone\u001b[0m, \u001b[38;5;34m64\u001b[0m)            │      \u001b[38;5;34m8,256\u001b[0m │   \u001b[1;38;5;34mY\u001b[0m   │\n",
       "├─────────────────────────────┼───────────────────────┼────────────┼───────┤\n",
       "│ dense_6 (\u001b[38;5;33mDense\u001b[0m)             │ (\u001b[38;5;45mNone\u001b[0m, \u001b[38;5;34m39\u001b[0m)            │      \u001b[38;5;34m2,535\u001b[0m │   \u001b[1;38;5;34mY\u001b[0m   │\n",
       "└─────────────────────────────┴───────────────────────┴────────────┴───────┘\n"
      ]
     },
     "metadata": {},
     "output_type": "display_data"
    },
    {
     "data": {
      "text/html": [
       "<pre style=\"white-space:pre;overflow-x:auto;line-height:normal;font-family:Menlo,'DejaVu Sans Mono',consolas,'Courier New',monospace\"><span style=\"font-weight: bold\"> Total params: </span><span style=\"color: #00af00; text-decoration-color: #00af00\">24,133,031</span> (92.06 MB)\n",
       "</pre>\n"
      ],
      "text/plain": [
       "\u001b[1m Total params: \u001b[0m\u001b[38;5;34m24,133,031\u001b[0m (92.06 MB)\n"
      ]
     },
     "metadata": {},
     "output_type": "display_data"
    },
    {
     "data": {
      "text/html": [
       "<pre style=\"white-space:pre;overflow-x:auto;line-height:normal;font-family:Menlo,'DejaVu Sans Mono',consolas,'Courier New',monospace\"><span style=\"font-weight: bold\"> Trainable params: </span><span style=\"color: #00af00; text-decoration-color: #00af00\">568,231</span> (2.17 MB)\n",
       "</pre>\n"
      ],
      "text/plain": [
       "\u001b[1m Trainable params: \u001b[0m\u001b[38;5;34m568,231\u001b[0m (2.17 MB)\n"
      ]
     },
     "metadata": {},
     "output_type": "display_data"
    },
    {
     "data": {
      "text/html": [
       "<pre style=\"white-space:pre;overflow-x:auto;line-height:normal;font-family:Menlo,'DejaVu Sans Mono',consolas,'Courier New',monospace\"><span style=\"font-weight: bold\"> Non-trainable params: </span><span style=\"color: #00af00; text-decoration-color: #00af00\">23,564,800</span> (89.89 MB)\n",
       "</pre>\n"
      ],
      "text/plain": [
       "\u001b[1m Non-trainable params: \u001b[0m\u001b[38;5;34m23,564,800\u001b[0m (89.89 MB)\n"
      ]
     },
     "metadata": {},
     "output_type": "display_data"
    }
   ],
   "source": [
    "resnet_model.trainable = False\n",
    "inputs = keras.Input(shape=(224,224,3))\n",
    "scale_layer = keras.layers.Rescaling(scale=1 / 127.5, offset=-1)\n",
    "x = scale_layer(inputs)\n",
    "x = resnet_model(x, training=False)\n",
    "x = keras.layers.GlobalAveragePooling2D()(x)\n",
    "x = keras.layers.Dense(256,activation = 'relu')(x)\n",
    "x = keras.layers.Dense(128,activation = 'relu')(x)\n",
    "x = keras.layers.Dense(64, activation = 'relu')(x)\n",
    "outputs = keras.layers.Dense(39,activation='softmax')(x)\n",
    "resnet_model = keras.Model(inputs, outputs)\n",
    "resnet_model.summary(show_trainable=True)"
   ]
  },
  {
   "cell_type": "code",
   "execution_count": 18,
   "id": "4983308b",
   "metadata": {
    "execution": {
     "iopub.execute_input": "2024-09-09T23:56:05.619472Z",
     "iopub.status.busy": "2024-09-09T23:56:05.618719Z",
     "iopub.status.idle": "2024-09-09T23:56:05.624211Z",
     "shell.execute_reply": "2024-09-09T23:56:05.623310Z"
    },
    "papermill": {
     "duration": 0.312492,
     "end_time": "2024-09-09T23:56:05.626119",
     "exception": false,
     "start_time": "2024-09-09T23:56:05.313627",
     "status": "completed"
    },
    "tags": []
   },
   "outputs": [],
   "source": [
    "es=keras.callbacks.EarlyStopping(monitor='val_accuracy',verbose=1,patience=7,mode='auto')\n",
    "mc=keras.callbacks.ModelCheckpoint(filepath='/content/model.keras',monitor='val_accuracy',verbose=1,save_best_only=True)\n",
    "lr=keras.callbacks.ReduceLROnPlateau(monitor='val_accuracy',verbose=1,patience=5,min_lr=0.001)"
   ]
  },
  {
   "cell_type": "code",
   "execution_count": 19,
   "id": "fc56c3b3",
   "metadata": {
    "execution": {
     "iopub.execute_input": "2024-09-09T23:56:06.236770Z",
     "iopub.status.busy": "2024-09-09T23:56:06.236364Z",
     "iopub.status.idle": "2024-09-09T23:56:06.246712Z",
     "shell.execute_reply": "2024-09-09T23:56:06.245629Z"
    },
    "papermill": {
     "duration": 0.319643,
     "end_time": "2024-09-09T23:56:06.248946",
     "exception": false,
     "start_time": "2024-09-09T23:56:05.929303",
     "status": "completed"
    },
    "tags": []
   },
   "outputs": [],
   "source": [
    "resnet_model.compile(optimizer='Adam',loss=tf.keras.losses.SparseCategoricalCrossentropy(from_logits=False),metrics=['accuracy'])"
   ]
  },
  {
   "cell_type": "code",
   "execution_count": 20,
   "id": "bcd943e8",
   "metadata": {
    "execution": {
     "iopub.execute_input": "2024-09-09T23:56:06.865015Z",
     "iopub.status.busy": "2024-09-09T23:56:06.864037Z",
     "iopub.status.idle": "2024-09-10T00:18:19.764961Z",
     "shell.execute_reply": "2024-09-10T00:18:19.764038Z"
    },
    "papermill": {
     "duration": 1333.212209,
     "end_time": "2024-09-10T00:18:19.766904",
     "exception": false,
     "start_time": "2024-09-09T23:56:06.554695",
     "status": "completed"
    },
    "tags": []
   },
   "outputs": [
    {
     "name": "stdout",
     "output_type": "stream",
     "text": [
      "Epoch 1/30\n",
      "\u001b[1m199/200\u001b[0m \u001b[32m━━━━━━━━━━━━━━━━━━━\u001b[0m\u001b[37m━\u001b[0m \u001b[1m0s\u001b[0m 38ms/step - accuracy: 0.3007 - loss: 2.5973\n",
      "Epoch 1: val_accuracy improved from -inf to 0.65150, saving model to /content/model.keras\n",
      "\u001b[1m200/200\u001b[0m \u001b[32m━━━━━━━━━━━━━━━━━━━━\u001b[0m\u001b[37m\u001b[0m \u001b[1m58s\u001b[0m 243ms/step - accuracy: 0.3024 - loss: 2.5904 - val_accuracy: 0.6515 - val_loss: 1.1417 - learning_rate: 0.0010\n",
      "Epoch 2/30\n",
      "\u001b[1m199/200\u001b[0m \u001b[32m━━━━━━━━━━━━━━━━━━━\u001b[0m\u001b[37m━\u001b[0m \u001b[1m0s\u001b[0m 38ms/step - accuracy: 0.6542 - loss: 1.1001\n",
      "Epoch 2: val_accuracy improved from 0.65150 to 0.70220, saving model to /content/model.keras\n",
      "\u001b[1m200/200\u001b[0m \u001b[32m━━━━━━━━━━━━━━━━━━━━\u001b[0m\u001b[37m\u001b[0m \u001b[1m44s\u001b[0m 222ms/step - accuracy: 0.6543 - loss: 1.0996 - val_accuracy: 0.7022 - val_loss: 0.9487 - learning_rate: 0.0010\n",
      "Epoch 3/30\n",
      "\u001b[1m199/200\u001b[0m \u001b[32m━━━━━━━━━━━━━━━━━━━\u001b[0m\u001b[37m━\u001b[0m \u001b[1m0s\u001b[0m 38ms/step - accuracy: 0.6923 - loss: 0.9737\n",
      "Epoch 3: val_accuracy improved from 0.70220 to 0.73280, saving model to /content/model.keras\n",
      "\u001b[1m200/200\u001b[0m \u001b[32m━━━━━━━━━━━━━━━━━━━━\u001b[0m\u001b[37m\u001b[0m \u001b[1m44s\u001b[0m 222ms/step - accuracy: 0.6924 - loss: 0.9733 - val_accuracy: 0.7328 - val_loss: 0.8351 - learning_rate: 0.0010\n",
      "Epoch 4/30\n",
      "\u001b[1m199/200\u001b[0m \u001b[32m━━━━━━━━━━━━━━━━━━━\u001b[0m\u001b[37m━\u001b[0m \u001b[1m0s\u001b[0m 38ms/step - accuracy: 0.7248 - loss: 0.8553\n",
      "Epoch 4: val_accuracy improved from 0.73280 to 0.76111, saving model to /content/model.keras\n",
      "\u001b[1m200/200\u001b[0m \u001b[32m━━━━━━━━━━━━━━━━━━━━\u001b[0m\u001b[37m\u001b[0m \u001b[1m44s\u001b[0m 222ms/step - accuracy: 0.7249 - loss: 0.8548 - val_accuracy: 0.7611 - val_loss: 0.7485 - learning_rate: 0.0010\n",
      "Epoch 5/30\n",
      "\u001b[1m199/200\u001b[0m \u001b[32m━━━━━━━━━━━━━━━━━━━\u001b[0m\u001b[37m━\u001b[0m \u001b[1m0s\u001b[0m 38ms/step - accuracy: 0.7599 - loss: 0.7316\n",
      "Epoch 5: val_accuracy improved from 0.76111 to 0.76800, saving model to /content/model.keras\n",
      "\u001b[1m200/200\u001b[0m \u001b[32m━━━━━━━━━━━━━━━━━━━━\u001b[0m\u001b[37m\u001b[0m \u001b[1m44s\u001b[0m 222ms/step - accuracy: 0.7599 - loss: 0.7315 - val_accuracy: 0.7680 - val_loss: 0.7104 - learning_rate: 0.0010\n",
      "Epoch 6/30\n",
      "\u001b[1m200/200\u001b[0m \u001b[32m━━━━━━━━━━━━━━━━━━━━\u001b[0m\u001b[37m\u001b[0m \u001b[1m0s\u001b[0m 39ms/step - accuracy: 0.7653 - loss: 0.7352\n",
      "Epoch 6: val_accuracy improved from 0.76800 to 0.78530, saving model to /content/model.keras\n",
      "\u001b[1m200/200\u001b[0m \u001b[32m━━━━━━━━━━━━━━━━━━━━\u001b[0m\u001b[37m\u001b[0m \u001b[1m45s\u001b[0m 224ms/step - accuracy: 0.7653 - loss: 0.7350 - val_accuracy: 0.7853 - val_loss: 0.6559 - learning_rate: 0.0010\n",
      "Epoch 7/30\n",
      "\u001b[1m199/200\u001b[0m \u001b[32m━━━━━━━━━━━━━━━━━━━\u001b[0m\u001b[37m━\u001b[0m \u001b[1m0s\u001b[0m 38ms/step - accuracy: 0.7800 - loss: 0.6860\n",
      "Epoch 7: val_accuracy improved from 0.78530 to 0.79517, saving model to /content/model.keras\n",
      "\u001b[1m200/200\u001b[0m \u001b[32m━━━━━━━━━━━━━━━━━━━━\u001b[0m\u001b[37m\u001b[0m \u001b[1m44s\u001b[0m 222ms/step - accuracy: 0.7800 - loss: 0.6860 - val_accuracy: 0.7952 - val_loss: 0.6327 - learning_rate: 0.0010\n",
      "Epoch 8/30\n",
      "\u001b[1m199/200\u001b[0m \u001b[32m━━━━━━━━━━━━━━━━━━━\u001b[0m\u001b[37m━\u001b[0m \u001b[1m0s\u001b[0m 38ms/step - accuracy: 0.7847 - loss: 0.6446\n",
      "Epoch 8: val_accuracy improved from 0.79517 to 0.80057, saving model to /content/model.keras\n",
      "\u001b[1m200/200\u001b[0m \u001b[32m━━━━━━━━━━━━━━━━━━━━\u001b[0m\u001b[37m\u001b[0m \u001b[1m44s\u001b[0m 222ms/step - accuracy: 0.7847 - loss: 0.6448 - val_accuracy: 0.8006 - val_loss: 0.6111 - learning_rate: 0.0010\n",
      "Epoch 9/30\n",
      "\u001b[1m199/200\u001b[0m \u001b[32m━━━━━━━━━━━━━━━━━━━\u001b[0m\u001b[37m━\u001b[0m \u001b[1m0s\u001b[0m 45ms/step - accuracy: 0.7994 - loss: 0.6263\n",
      "Epoch 9: val_accuracy did not improve from 0.80057\n",
      "\u001b[1m200/200\u001b[0m \u001b[32m━━━━━━━━━━━━━━━━━━━━\u001b[0m\u001b[37m\u001b[0m \u001b[1m45s\u001b[0m 225ms/step - accuracy: 0.7994 - loss: 0.6262 - val_accuracy: 0.7906 - val_loss: 0.6317 - learning_rate: 0.0010\n",
      "Epoch 10/30\n",
      "\u001b[1m199/200\u001b[0m \u001b[32m━━━━━━━━━━━━━━━━━━━\u001b[0m\u001b[37m━\u001b[0m \u001b[1m0s\u001b[0m 38ms/step - accuracy: 0.7909 - loss: 0.6313\n",
      "Epoch 10: val_accuracy improved from 0.80057 to 0.80345, saving model to /content/model.keras\n",
      "\u001b[1m200/200\u001b[0m \u001b[32m━━━━━━━━━━━━━━━━━━━━\u001b[0m\u001b[37m\u001b[0m \u001b[1m44s\u001b[0m 222ms/step - accuracy: 0.7909 - loss: 0.6313 - val_accuracy: 0.8035 - val_loss: 0.5985 - learning_rate: 0.0010\n",
      "Epoch 11/30\n",
      "\u001b[1m199/200\u001b[0m \u001b[32m━━━━━━━━━━━━━━━━━━━\u001b[0m\u001b[37m━\u001b[0m \u001b[1m0s\u001b[0m 39ms/step - accuracy: 0.8061 - loss: 0.5930\n",
      "Epoch 11: val_accuracy improved from 0.80345 to 0.80990, saving model to /content/model.keras\n",
      "\u001b[1m200/200\u001b[0m \u001b[32m━━━━━━━━━━━━━━━━━━━━\u001b[0m\u001b[37m\u001b[0m \u001b[1m44s\u001b[0m 222ms/step - accuracy: 0.8061 - loss: 0.5931 - val_accuracy: 0.8099 - val_loss: 0.5734 - learning_rate: 0.0010\n",
      "Epoch 12/30\n",
      "\u001b[1m199/200\u001b[0m \u001b[32m━━━━━━━━━━━━━━━━━━━\u001b[0m\u001b[37m━\u001b[0m \u001b[1m0s\u001b[0m 38ms/step - accuracy: 0.8091 - loss: 0.5820\n",
      "Epoch 12: val_accuracy did not improve from 0.80990\n",
      "\u001b[1m200/200\u001b[0m \u001b[32m━━━━━━━━━━━━━━━━━━━━\u001b[0m\u001b[37m\u001b[0m \u001b[1m43s\u001b[0m 218ms/step - accuracy: 0.8092 - loss: 0.5818 - val_accuracy: 0.8074 - val_loss: 0.5876 - learning_rate: 0.0010\n",
      "Epoch 13/30\n",
      "\u001b[1m199/200\u001b[0m \u001b[32m━━━━━━━━━━━━━━━━━━━\u001b[0m\u001b[37m━\u001b[0m \u001b[1m0s\u001b[0m 38ms/step - accuracy: 0.7998 - loss: 0.6011\n",
      "Epoch 13: val_accuracy did not improve from 0.80990\n",
      "\u001b[1m200/200\u001b[0m \u001b[32m━━━━━━━━━━━━━━━━━━━━\u001b[0m\u001b[37m\u001b[0m \u001b[1m43s\u001b[0m 218ms/step - accuracy: 0.8000 - loss: 0.6008 - val_accuracy: 0.8095 - val_loss: 0.5855 - learning_rate: 0.0010\n",
      "Epoch 14/30\n",
      "\u001b[1m199/200\u001b[0m \u001b[32m━━━━━━━━━━━━━━━━━━━\u001b[0m\u001b[37m━\u001b[0m \u001b[1m0s\u001b[0m 39ms/step - accuracy: 0.8160 - loss: 0.5840\n",
      "Epoch 14: val_accuracy improved from 0.80990 to 0.82367, saving model to /content/model.keras\n",
      "\u001b[1m200/200\u001b[0m \u001b[32m━━━━━━━━━━━━━━━━━━━━\u001b[0m\u001b[37m\u001b[0m \u001b[1m44s\u001b[0m 222ms/step - accuracy: 0.8160 - loss: 0.5839 - val_accuracy: 0.8237 - val_loss: 0.5336 - learning_rate: 0.0010\n",
      "Epoch 15/30\n",
      "\u001b[1m199/200\u001b[0m \u001b[32m━━━━━━━━━━━━━━━━━━━\u001b[0m\u001b[37m━\u001b[0m \u001b[1m0s\u001b[0m 38ms/step - accuracy: 0.8182 - loss: 0.5561\n",
      "Epoch 15: val_accuracy did not improve from 0.82367\n",
      "\u001b[1m200/200\u001b[0m \u001b[32m━━━━━━━━━━━━━━━━━━━━\u001b[0m\u001b[37m\u001b[0m \u001b[1m43s\u001b[0m 218ms/step - accuracy: 0.8181 - loss: 0.5562 - val_accuracy: 0.8206 - val_loss: 0.5618 - learning_rate: 0.0010\n",
      "Epoch 16/30\n",
      "\u001b[1m199/200\u001b[0m \u001b[32m━━━━━━━━━━━━━━━━━━━\u001b[0m\u001b[37m━\u001b[0m \u001b[1m0s\u001b[0m 39ms/step - accuracy: 0.8136 - loss: 0.5638\n",
      "Epoch 16: val_accuracy did not improve from 0.82367\n",
      "\u001b[1m200/200\u001b[0m \u001b[32m━━━━━━━━━━━━━━━━━━━━\u001b[0m\u001b[37m\u001b[0m \u001b[1m44s\u001b[0m 218ms/step - accuracy: 0.8136 - loss: 0.5637 - val_accuracy: 0.8165 - val_loss: 0.5605 - learning_rate: 0.0010\n",
      "Epoch 17/30\n",
      "\u001b[1m199/200\u001b[0m \u001b[32m━━━━━━━━━━━━━━━━━━━\u001b[0m\u001b[37m━\u001b[0m \u001b[1m0s\u001b[0m 38ms/step - accuracy: 0.8153 - loss: 0.5513\n",
      "Epoch 17: val_accuracy improved from 0.82367 to 0.82443, saving model to /content/model.keras\n",
      "\u001b[1m200/200\u001b[0m \u001b[32m━━━━━━━━━━━━━━━━━━━━\u001b[0m\u001b[37m\u001b[0m \u001b[1m44s\u001b[0m 222ms/step - accuracy: 0.8153 - loss: 0.5513 - val_accuracy: 0.8244 - val_loss: 0.5430 - learning_rate: 0.0010\n",
      "Epoch 18/30\n",
      "\u001b[1m199/200\u001b[0m \u001b[32m━━━━━━━━━━━━━━━━━━━\u001b[0m\u001b[37m━\u001b[0m \u001b[1m0s\u001b[0m 38ms/step - accuracy: 0.8170 - loss: 0.5444\n",
      "Epoch 18: val_accuracy improved from 0.82443 to 0.82793, saving model to /content/model.keras\n",
      "\u001b[1m200/200\u001b[0m \u001b[32m━━━━━━━━━━━━━━━━━━━━\u001b[0m\u001b[37m\u001b[0m \u001b[1m44s\u001b[0m 222ms/step - accuracy: 0.8171 - loss: 0.5445 - val_accuracy: 0.8279 - val_loss: 0.5207 - learning_rate: 0.0010\n",
      "Epoch 19/30\n",
      "\u001b[1m199/200\u001b[0m \u001b[32m━━━━━━━━━━━━━━━━━━━\u001b[0m\u001b[37m━\u001b[0m \u001b[1m0s\u001b[0m 39ms/step - accuracy: 0.8346 - loss: 0.5118\n",
      "Epoch 19: val_accuracy did not improve from 0.82793\n",
      "\u001b[1m200/200\u001b[0m \u001b[32m━━━━━━━━━━━━━━━━━━━━\u001b[0m\u001b[37m\u001b[0m \u001b[1m43s\u001b[0m 218ms/step - accuracy: 0.8345 - loss: 0.5120 - val_accuracy: 0.8207 - val_loss: 0.5374 - learning_rate: 0.0010\n",
      "Epoch 20/30\n",
      "\u001b[1m139/200\u001b[0m \u001b[32m━━━━━━━━━━━━━\u001b[0m\u001b[37m━━━━━━━\u001b[0m \u001b[1m3s\u001b[0m 61ms/step - accuracy: 0.8284 - loss: 0.5097"
     ]
    },
    {
     "name": "stderr",
     "output_type": "stream",
     "text": [
      "/opt/conda/lib/python3.10/contextlib.py:153: UserWarning: Your input ran out of data; interrupting training. Make sure that your dataset or generator can generate at least `steps_per_epoch * epochs` batches. You may need to use the `.repeat()` function when building your dataset.\n",
      "  self.gen.throw(typ, value, traceback)\n"
     ]
    },
    {
     "name": "stdout",
     "output_type": "stream",
     "text": [
      "\n",
      "Epoch 20: val_accuracy improved from 0.82793 to 0.82812, saving model to /content/model.keras\n",
      "\u001b[1m200/200\u001b[0m \u001b[32m━━━━━━━━━━━━━━━━━━━━\u001b[0m\u001b[37m\u001b[0m \u001b[1m45s\u001b[0m 226ms/step - accuracy: 0.8267 - loss: 0.5202 - val_accuracy: 0.8281 - val_loss: 0.5201 - learning_rate: 0.0010\n",
      "Epoch 21/30\n",
      "\u001b[1m199/200\u001b[0m \u001b[32m━━━━━━━━━━━━━━━━━━━\u001b[0m\u001b[37m━\u001b[0m \u001b[1m0s\u001b[0m 38ms/step - accuracy: 0.8204 - loss: 0.5245\n",
      "Epoch 21: val_accuracy improved from 0.82812 to 0.83970, saving model to /content/model.keras\n",
      "\u001b[1m200/200\u001b[0m \u001b[32m━━━━━━━━━━━━━━━━━━━━\u001b[0m\u001b[37m\u001b[0m \u001b[1m44s\u001b[0m 222ms/step - accuracy: 0.8205 - loss: 0.5244 - val_accuracy: 0.8397 - val_loss: 0.4902 - learning_rate: 0.0010\n",
      "Epoch 22/30\n",
      "\u001b[1m199/200\u001b[0m \u001b[32m━━━━━━━━━━━━━━━━━━━\u001b[0m\u001b[37m━\u001b[0m \u001b[1m0s\u001b[0m 38ms/step - accuracy: 0.8357 - loss: 0.5054\n",
      "Epoch 22: val_accuracy did not improve from 0.83970\n",
      "\u001b[1m200/200\u001b[0m \u001b[32m━━━━━━━━━━━━━━━━━━━━\u001b[0m\u001b[37m\u001b[0m \u001b[1m43s\u001b[0m 217ms/step - accuracy: 0.8357 - loss: 0.5055 - val_accuracy: 0.8256 - val_loss: 0.5311 - learning_rate: 0.0010\n",
      "Epoch 23/30\n",
      "\u001b[1m199/200\u001b[0m \u001b[32m━━━━━━━━━━━━━━━━━━━\u001b[0m\u001b[37m━\u001b[0m \u001b[1m0s\u001b[0m 38ms/step - accuracy: 0.8253 - loss: 0.5096\n",
      "Epoch 23: val_accuracy did not improve from 0.83970\n",
      "\u001b[1m200/200\u001b[0m \u001b[32m━━━━━━━━━━━━━━━━━━━━\u001b[0m\u001b[37m\u001b[0m \u001b[1m43s\u001b[0m 217ms/step - accuracy: 0.8254 - loss: 0.5095 - val_accuracy: 0.8224 - val_loss: 0.5342 - learning_rate: 0.0010\n",
      "Epoch 24/30\n",
      "\u001b[1m199/200\u001b[0m \u001b[32m━━━━━━━━━━━━━━━━━━━\u001b[0m\u001b[37m━\u001b[0m \u001b[1m0s\u001b[0m 38ms/step - accuracy: 0.8327 - loss: 0.5043\n",
      "Epoch 24: val_accuracy did not improve from 0.83970\n",
      "\u001b[1m200/200\u001b[0m \u001b[32m━━━━━━━━━━━━━━━━━━━━\u001b[0m\u001b[37m\u001b[0m \u001b[1m43s\u001b[0m 217ms/step - accuracy: 0.8328 - loss: 0.5040 - val_accuracy: 0.8341 - val_loss: 0.4938 - learning_rate: 0.0010\n",
      "Epoch 25/30\n",
      "\u001b[1m199/200\u001b[0m \u001b[32m━━━━━━━━━━━━━━━━━━━\u001b[0m\u001b[37m━\u001b[0m \u001b[1m0s\u001b[0m 38ms/step - accuracy: 0.8594 - loss: 0.4440\n",
      "Epoch 25: val_accuracy improved from 0.83970 to 0.84377, saving model to /content/model.keras\n",
      "\u001b[1m200/200\u001b[0m \u001b[32m━━━━━━━━━━━━━━━━━━━━\u001b[0m\u001b[37m\u001b[0m \u001b[1m44s\u001b[0m 222ms/step - accuracy: 0.8593 - loss: 0.4441 - val_accuracy: 0.8438 - val_loss: 0.4723 - learning_rate: 0.0010\n",
      "Epoch 26/30\n",
      "\u001b[1m199/200\u001b[0m \u001b[32m━━━━━━━━━━━━━━━━━━━\u001b[0m\u001b[37m━\u001b[0m \u001b[1m0s\u001b[0m 38ms/step - accuracy: 0.8593 - loss: 0.4146\n",
      "Epoch 26: val_accuracy did not improve from 0.84377\n",
      "\u001b[1m200/200\u001b[0m \u001b[32m━━━━━━━━━━━━━━━━━━━━\u001b[0m\u001b[37m\u001b[0m \u001b[1m43s\u001b[0m 217ms/step - accuracy: 0.8592 - loss: 0.4148 - val_accuracy: 0.8385 - val_loss: 0.4964 - learning_rate: 0.0010\n",
      "Epoch 27/30\n",
      "\u001b[1m199/200\u001b[0m \u001b[32m━━━━━━━━━━━━━━━━━━━\u001b[0m\u001b[37m━\u001b[0m \u001b[1m0s\u001b[0m 38ms/step - accuracy: 0.8507 - loss: 0.4468\n",
      "Epoch 27: val_accuracy did not improve from 0.84377\n",
      "\u001b[1m200/200\u001b[0m \u001b[32m━━━━━━━━━━━━━━━━━━━━\u001b[0m\u001b[37m\u001b[0m \u001b[1m43s\u001b[0m 218ms/step - accuracy: 0.8508 - loss: 0.4466 - val_accuracy: 0.8335 - val_loss: 0.5181 - learning_rate: 0.0010\n",
      "Epoch 28/30\n",
      "\u001b[1m199/200\u001b[0m \u001b[32m━━━━━━━━━━━━━━━━━━━\u001b[0m\u001b[37m━\u001b[0m \u001b[1m0s\u001b[0m 38ms/step - accuracy: 0.8610 - loss: 0.4164\n",
      "Epoch 28: val_accuracy improved from 0.84377 to 0.84589, saving model to /content/model.keras\n",
      "\u001b[1m200/200\u001b[0m \u001b[32m━━━━━━━━━━━━━━━━━━━━\u001b[0m\u001b[37m\u001b[0m \u001b[1m44s\u001b[0m 222ms/step - accuracy: 0.8610 - loss: 0.4165 - val_accuracy: 0.8459 - val_loss: 0.4753 - learning_rate: 0.0010\n",
      "Epoch 29/30\n",
      "\u001b[1m199/200\u001b[0m \u001b[32m━━━━━━━━━━━━━━━━━━━\u001b[0m\u001b[37m━\u001b[0m \u001b[1m0s\u001b[0m 38ms/step - accuracy: 0.8579 - loss: 0.4247\n",
      "Epoch 29: val_accuracy did not improve from 0.84589\n",
      "\u001b[1m200/200\u001b[0m \u001b[32m━━━━━━━━━━━━━━━━━━━━\u001b[0m\u001b[37m\u001b[0m \u001b[1m43s\u001b[0m 218ms/step - accuracy: 0.8579 - loss: 0.4247 - val_accuracy: 0.8405 - val_loss: 0.4844 - learning_rate: 0.0010\n",
      "Epoch 30/30\n",
      "\u001b[1m199/200\u001b[0m \u001b[32m━━━━━━━━━━━━━━━━━━━\u001b[0m\u001b[37m━\u001b[0m \u001b[1m0s\u001b[0m 38ms/step - accuracy: 0.8597 - loss: 0.4319\n",
      "Epoch 30: val_accuracy improved from 0.84589 to 0.84732, saving model to /content/model.keras\n",
      "\u001b[1m200/200\u001b[0m \u001b[32m━━━━━━━━━━━━━━━━━━━━\u001b[0m\u001b[37m\u001b[0m \u001b[1m44s\u001b[0m 222ms/step - accuracy: 0.8597 - loss: 0.4319 - val_accuracy: 0.8473 - val_loss: 0.4636 - learning_rate: 0.0010\n"
     ]
    },
    {
     "data": {
      "text/plain": [
       "<keras.src.callbacks.history.History at 0x7cac68805270>"
      ]
     },
     "execution_count": 20,
     "metadata": {},
     "output_type": "execute_result"
    }
   ],
   "source": [
    "resnet_model.fit(train_dataset,validation_data=validation_dataset,epochs=30,steps_per_epoch=200,verbose=1,callbacks=[mc,es,lr])"
   ]
  },
  {
   "cell_type": "code",
   "execution_count": 21,
   "id": "715fb92b",
   "metadata": {
    "execution": {
     "iopub.execute_input": "2024-09-10T00:18:20.865540Z",
     "iopub.status.busy": "2024-09-10T00:18:20.865163Z",
     "iopub.status.idle": "2024-09-10T00:19:11.743769Z",
     "shell.execute_reply": "2024-09-10T00:19:11.742850Z"
    },
    "papermill": {
     "duration": 51.428178,
     "end_time": "2024-09-10T00:19:11.745650",
     "exception": false,
     "start_time": "2024-09-10T00:18:20.317472",
     "status": "completed"
    },
    "tags": []
   },
   "outputs": [
    {
     "name": "stdout",
     "output_type": "stream",
     "text": [
      "\u001b[1m1231/1231\u001b[0m \u001b[32m━━━━━━━━━━━━━━━━━━━━\u001b[0m\u001b[37m\u001b[0m \u001b[1m51s\u001b[0m 41ms/step - accuracy: 0.8442 - loss: 0.4781\n"
     ]
    },
    {
     "data": {
      "text/plain": [
       "[0.47578904032707214, 0.8450478911399841]"
      ]
     },
     "execution_count": 21,
     "metadata": {},
     "output_type": "execute_result"
    }
   ],
   "source": [
    "resnet_model.evaluate(test_dataset)"
   ]
  },
  {
   "cell_type": "markdown",
   "id": "65795f07",
   "metadata": {
    "papermill": {
     "duration": 0.596422,
     "end_time": "2024-09-10T00:19:12.944544",
     "exception": false,
     "start_time": "2024-09-10T00:19:12.348122",
     "status": "completed"
    },
    "tags": []
   },
   "source": [
    "try with freeze 45 layers"
   ]
  },
  {
   "cell_type": "code",
   "execution_count": 22,
   "id": "c172f271",
   "metadata": {
    "execution": {
     "iopub.execute_input": "2024-09-10T00:19:14.172809Z",
     "iopub.status.busy": "2024-09-10T00:19:14.172411Z",
     "iopub.status.idle": "2024-09-10T00:19:14.562087Z",
     "shell.execute_reply": "2024-09-10T00:19:14.561282Z"
    },
    "papermill": {
     "duration": 0.988415,
     "end_time": "2024-09-10T00:19:14.564365",
     "exception": false,
     "start_time": "2024-09-10T00:19:13.575950",
     "status": "completed"
    },
    "tags": []
   },
   "outputs": [],
   "source": [
    "resnet_model.save('resnet_frozen_layers.h5')"
   ]
  },
  {
   "cell_type": "code",
   "execution_count": 23,
   "id": "9878d4a7",
   "metadata": {
    "execution": {
     "iopub.execute_input": "2024-09-10T00:19:15.792780Z",
     "iopub.status.busy": "2024-09-10T00:19:15.792130Z",
     "iopub.status.idle": "2024-09-10T00:19:16.827347Z",
     "shell.execute_reply": "2024-09-10T00:19:16.826350Z"
    },
    "papermill": {
     "duration": 1.671417,
     "end_time": "2024-09-10T00:19:16.829798",
     "exception": false,
     "start_time": "2024-09-10T00:19:15.158381",
     "status": "completed"
    },
    "tags": []
   },
   "outputs": [],
   "source": [
    "resnet_model = tf.keras.applications.ResNet50V2(\n",
    "    weights=\"imagenet\",  # Load weights pre-trained on ImageNet.\n",
    "    input_shape=(224, 224, 3),\n",
    "    include_top=False,\n",
    ")"
   ]
  },
  {
   "cell_type": "code",
   "execution_count": 24,
   "id": "3799dc9f",
   "metadata": {
    "execution": {
     "iopub.execute_input": "2024-09-10T00:19:18.023416Z",
     "iopub.status.busy": "2024-09-10T00:19:18.023024Z",
     "iopub.status.idle": "2024-09-10T00:19:18.029186Z",
     "shell.execute_reply": "2024-09-10T00:19:18.028319Z"
    },
    "papermill": {
     "duration": 0.605389,
     "end_time": "2024-09-10T00:19:18.031116",
     "exception": false,
     "start_time": "2024-09-10T00:19:17.425727",
     "status": "completed"
    },
    "tags": []
   },
   "outputs": [
    {
     "data": {
      "text/plain": [
       "190"
      ]
     },
     "execution_count": 24,
     "metadata": {},
     "output_type": "execute_result"
    }
   ],
   "source": [
    "len(resnet_model.layers)"
   ]
  },
  {
   "cell_type": "code",
   "execution_count": 25,
   "id": "ed772f81",
   "metadata": {
    "execution": {
     "iopub.execute_input": "2024-09-10T00:19:19.260474Z",
     "iopub.status.busy": "2024-09-10T00:19:19.259815Z",
     "iopub.status.idle": "2024-09-10T00:19:19.268373Z",
     "shell.execute_reply": "2024-09-10T00:19:19.267470Z"
    },
    "papermill": {
     "duration": 0.606404,
     "end_time": "2024-09-10T00:19:19.270387",
     "exception": false,
     "start_time": "2024-09-10T00:19:18.663983",
     "status": "completed"
    },
    "tags": []
   },
   "outputs": [],
   "source": [
    "for layer in resnet_model.layers[:150]:\n",
    "    layer.trainable = False"
   ]
  },
  {
   "cell_type": "code",
   "execution_count": 26,
   "id": "f779e098",
   "metadata": {
    "execution": {
     "iopub.execute_input": "2024-09-10T00:19:20.526281Z",
     "iopub.status.busy": "2024-09-10T00:19:20.525890Z",
     "iopub.status.idle": "2024-09-10T00:19:20.594337Z",
     "shell.execute_reply": "2024-09-10T00:19:20.593461Z"
    },
    "papermill": {
     "duration": 0.707949,
     "end_time": "2024-09-10T00:19:20.596323",
     "exception": false,
     "start_time": "2024-09-10T00:19:19.888374",
     "status": "completed"
    },
    "tags": []
   },
   "outputs": [
    {
     "data": {
      "text/html": [
       "<pre style=\"white-space:pre;overflow-x:auto;line-height:normal;font-family:Menlo,'DejaVu Sans Mono',consolas,'Courier New',monospace\"><span style=\"font-weight: bold\">Model: \"functional_9\"</span>\n",
       "</pre>\n"
      ],
      "text/plain": [
       "\u001b[1mModel: \"functional_9\"\u001b[0m\n"
      ]
     },
     "metadata": {},
     "output_type": "display_data"
    },
    {
     "data": {
      "text/html": [
       "<pre style=\"white-space:pre;overflow-x:auto;line-height:normal;font-family:Menlo,'DejaVu Sans Mono',consolas,'Courier New',monospace\">┏━━━━━━━━━━━━━━━━━━━━━━━━━━━━━┳━━━━━━━━━━━━━━━━━━━━━━━┳━━━━━━━━━━━━┳━━━━━━━┓\n",
       "┃<span style=\"font-weight: bold\"> Layer (type)                </span>┃<span style=\"font-weight: bold\"> Output Shape          </span>┃<span style=\"font-weight: bold\">    Param # </span>┃<span style=\"font-weight: bold\"> Trai… </span>┃\n",
       "┡━━━━━━━━━━━━━━━━━━━━━━━━━━━━━╇━━━━━━━━━━━━━━━━━━━━━━━╇━━━━━━━━━━━━╇━━━━━━━┩\n",
       "│ input_layer_9 (<span style=\"color: #0087ff; text-decoration-color: #0087ff\">InputLayer</span>)  │ (<span style=\"color: #00d7ff; text-decoration-color: #00d7ff\">None</span>, <span style=\"color: #00af00; text-decoration-color: #00af00\">224</span>, <span style=\"color: #00af00; text-decoration-color: #00af00\">224</span>, <span style=\"color: #00af00; text-decoration-color: #00af00\">3</span>)   │          <span style=\"color: #00af00; text-decoration-color: #00af00\">0</span> │   <span style=\"font-weight: bold\">-</span>   │\n",
       "├─────────────────────────────┼───────────────────────┼────────────┼───────┤\n",
       "│ rescaling_4 (<span style=\"color: #0087ff; text-decoration-color: #0087ff\">Rescaling</span>)     │ (<span style=\"color: #00d7ff; text-decoration-color: #00d7ff\">None</span>, <span style=\"color: #00af00; text-decoration-color: #00af00\">224</span>, <span style=\"color: #00af00; text-decoration-color: #00af00\">224</span>, <span style=\"color: #00af00; text-decoration-color: #00af00\">3</span>)   │          <span style=\"color: #00af00; text-decoration-color: #00af00\">0</span> │   <span style=\"font-weight: bold\">-</span>   │\n",
       "├─────────────────────────────┼───────────────────────┼────────────┼───────┤\n",
       "│ resnet50v2 (<span style=\"color: #0087ff; text-decoration-color: #0087ff\">Functional</span>)     │ (<span style=\"color: #00d7ff; text-decoration-color: #00d7ff\">None</span>, <span style=\"color: #00af00; text-decoration-color: #00af00\">7</span>, <span style=\"color: #00af00; text-decoration-color: #00af00\">7</span>, <span style=\"color: #00af00; text-decoration-color: #00af00\">2048</span>)    │ <span style=\"color: #00af00; text-decoration-color: #00af00\">23,564,800</span> │   <span style=\"color: #00af00; text-decoration-color: #00af00; font-weight: bold\">Y</span>   │\n",
       "├─────────────────────────────┼───────────────────────┼────────────┼───────┤\n",
       "│ global_average_pooling2d_4  │ (<span style=\"color: #00d7ff; text-decoration-color: #00d7ff\">None</span>, <span style=\"color: #00af00; text-decoration-color: #00af00\">2048</span>)          │          <span style=\"color: #00af00; text-decoration-color: #00af00\">0</span> │   <span style=\"font-weight: bold\">-</span>   │\n",
       "│ (<span style=\"color: #0087ff; text-decoration-color: #0087ff\">GlobalAveragePooling2D</span>)    │                       │            │       │\n",
       "├─────────────────────────────┼───────────────────────┼────────────┼───────┤\n",
       "│ dense_7 (<span style=\"color: #0087ff; text-decoration-color: #0087ff\">Dense</span>)             │ (<span style=\"color: #00d7ff; text-decoration-color: #00d7ff\">None</span>, <span style=\"color: #00af00; text-decoration-color: #00af00\">256</span>)           │    <span style=\"color: #00af00; text-decoration-color: #00af00\">524,544</span> │   <span style=\"color: #00af00; text-decoration-color: #00af00; font-weight: bold\">Y</span>   │\n",
       "├─────────────────────────────┼───────────────────────┼────────────┼───────┤\n",
       "│ dense_8 (<span style=\"color: #0087ff; text-decoration-color: #0087ff\">Dense</span>)             │ (<span style=\"color: #00d7ff; text-decoration-color: #00d7ff\">None</span>, <span style=\"color: #00af00; text-decoration-color: #00af00\">128</span>)           │     <span style=\"color: #00af00; text-decoration-color: #00af00\">32,896</span> │   <span style=\"color: #00af00; text-decoration-color: #00af00; font-weight: bold\">Y</span>   │\n",
       "├─────────────────────────────┼───────────────────────┼────────────┼───────┤\n",
       "│ dense_9 (<span style=\"color: #0087ff; text-decoration-color: #0087ff\">Dense</span>)             │ (<span style=\"color: #00d7ff; text-decoration-color: #00d7ff\">None</span>, <span style=\"color: #00af00; text-decoration-color: #00af00\">64</span>)            │      <span style=\"color: #00af00; text-decoration-color: #00af00\">8,256</span> │   <span style=\"color: #00af00; text-decoration-color: #00af00; font-weight: bold\">Y</span>   │\n",
       "├─────────────────────────────┼───────────────────────┼────────────┼───────┤\n",
       "│ dense_10 (<span style=\"color: #0087ff; text-decoration-color: #0087ff\">Dense</span>)            │ (<span style=\"color: #00d7ff; text-decoration-color: #00d7ff\">None</span>, <span style=\"color: #00af00; text-decoration-color: #00af00\">39</span>)            │      <span style=\"color: #00af00; text-decoration-color: #00af00\">2,535</span> │   <span style=\"color: #00af00; text-decoration-color: #00af00; font-weight: bold\">Y</span>   │\n",
       "└─────────────────────────────┴───────────────────────┴────────────┴───────┘\n",
       "</pre>\n"
      ],
      "text/plain": [
       "┏━━━━━━━━━━━━━━━━━━━━━━━━━━━━━┳━━━━━━━━━━━━━━━━━━━━━━━┳━━━━━━━━━━━━┳━━━━━━━┓\n",
       "┃\u001b[1m \u001b[0m\u001b[1mLayer (type)               \u001b[0m\u001b[1m \u001b[0m┃\u001b[1m \u001b[0m\u001b[1mOutput Shape         \u001b[0m\u001b[1m \u001b[0m┃\u001b[1m \u001b[0m\u001b[1m   Param #\u001b[0m\u001b[1m \u001b[0m┃\u001b[1m \u001b[0m\u001b[1mTrai…\u001b[0m\u001b[1m \u001b[0m┃\n",
       "┡━━━━━━━━━━━━━━━━━━━━━━━━━━━━━╇━━━━━━━━━━━━━━━━━━━━━━━╇━━━━━━━━━━━━╇━━━━━━━┩\n",
       "│ input_layer_9 (\u001b[38;5;33mInputLayer\u001b[0m)  │ (\u001b[38;5;45mNone\u001b[0m, \u001b[38;5;34m224\u001b[0m, \u001b[38;5;34m224\u001b[0m, \u001b[38;5;34m3\u001b[0m)   │          \u001b[38;5;34m0\u001b[0m │   \u001b[1m-\u001b[0m   │\n",
       "├─────────────────────────────┼───────────────────────┼────────────┼───────┤\n",
       "│ rescaling_4 (\u001b[38;5;33mRescaling\u001b[0m)     │ (\u001b[38;5;45mNone\u001b[0m, \u001b[38;5;34m224\u001b[0m, \u001b[38;5;34m224\u001b[0m, \u001b[38;5;34m3\u001b[0m)   │          \u001b[38;5;34m0\u001b[0m │   \u001b[1m-\u001b[0m   │\n",
       "├─────────────────────────────┼───────────────────────┼────────────┼───────┤\n",
       "│ resnet50v2 (\u001b[38;5;33mFunctional\u001b[0m)     │ (\u001b[38;5;45mNone\u001b[0m, \u001b[38;5;34m7\u001b[0m, \u001b[38;5;34m7\u001b[0m, \u001b[38;5;34m2048\u001b[0m)    │ \u001b[38;5;34m23,564,800\u001b[0m │   \u001b[1;38;5;34mY\u001b[0m   │\n",
       "├─────────────────────────────┼───────────────────────┼────────────┼───────┤\n",
       "│ global_average_pooling2d_4  │ (\u001b[38;5;45mNone\u001b[0m, \u001b[38;5;34m2048\u001b[0m)          │          \u001b[38;5;34m0\u001b[0m │   \u001b[1m-\u001b[0m   │\n",
       "│ (\u001b[38;5;33mGlobalAveragePooling2D\u001b[0m)    │                       │            │       │\n",
       "├─────────────────────────────┼───────────────────────┼────────────┼───────┤\n",
       "│ dense_7 (\u001b[38;5;33mDense\u001b[0m)             │ (\u001b[38;5;45mNone\u001b[0m, \u001b[38;5;34m256\u001b[0m)           │    \u001b[38;5;34m524,544\u001b[0m │   \u001b[1;38;5;34mY\u001b[0m   │\n",
       "├─────────────────────────────┼───────────────────────┼────────────┼───────┤\n",
       "│ dense_8 (\u001b[38;5;33mDense\u001b[0m)             │ (\u001b[38;5;45mNone\u001b[0m, \u001b[38;5;34m128\u001b[0m)           │     \u001b[38;5;34m32,896\u001b[0m │   \u001b[1;38;5;34mY\u001b[0m   │\n",
       "├─────────────────────────────┼───────────────────────┼────────────┼───────┤\n",
       "│ dense_9 (\u001b[38;5;33mDense\u001b[0m)             │ (\u001b[38;5;45mNone\u001b[0m, \u001b[38;5;34m64\u001b[0m)            │      \u001b[38;5;34m8,256\u001b[0m │   \u001b[1;38;5;34mY\u001b[0m   │\n",
       "├─────────────────────────────┼───────────────────────┼────────────┼───────┤\n",
       "│ dense_10 (\u001b[38;5;33mDense\u001b[0m)            │ (\u001b[38;5;45mNone\u001b[0m, \u001b[38;5;34m39\u001b[0m)            │      \u001b[38;5;34m2,535\u001b[0m │   \u001b[1;38;5;34mY\u001b[0m   │\n",
       "└─────────────────────────────┴───────────────────────┴────────────┴───────┘\n"
      ]
     },
     "metadata": {},
     "output_type": "display_data"
    },
    {
     "data": {
      "text/html": [
       "<pre style=\"white-space:pre;overflow-x:auto;line-height:normal;font-family:Menlo,'DejaVu Sans Mono',consolas,'Courier New',monospace\"><span style=\"font-weight: bold\"> Total params: </span><span style=\"color: #00af00; text-decoration-color: #00af00\">24,133,031</span> (92.06 MB)\n",
       "</pre>\n"
      ],
      "text/plain": [
       "\u001b[1m Total params: \u001b[0m\u001b[38;5;34m24,133,031\u001b[0m (92.06 MB)\n"
      ]
     },
     "metadata": {},
     "output_type": "display_data"
    },
    {
     "data": {
      "text/html": [
       "<pre style=\"white-space:pre;overflow-x:auto;line-height:normal;font-family:Menlo,'DejaVu Sans Mono',consolas,'Courier New',monospace\"><span style=\"font-weight: bold\"> Trainable params: </span><span style=\"color: #00af00; text-decoration-color: #00af00\">15,802,279</span> (60.28 MB)\n",
       "</pre>\n"
      ],
      "text/plain": [
       "\u001b[1m Trainable params: \u001b[0m\u001b[38;5;34m15,802,279\u001b[0m (60.28 MB)\n"
      ]
     },
     "metadata": {},
     "output_type": "display_data"
    },
    {
     "data": {
      "text/html": [
       "<pre style=\"white-space:pre;overflow-x:auto;line-height:normal;font-family:Menlo,'DejaVu Sans Mono',consolas,'Courier New',monospace\"><span style=\"font-weight: bold\"> Non-trainable params: </span><span style=\"color: #00af00; text-decoration-color: #00af00\">8,330,752</span> (31.78 MB)\n",
       "</pre>\n"
      ],
      "text/plain": [
       "\u001b[1m Non-trainable params: \u001b[0m\u001b[38;5;34m8,330,752\u001b[0m (31.78 MB)\n"
      ]
     },
     "metadata": {},
     "output_type": "display_data"
    }
   ],
   "source": [
    "inputs = keras.Input(shape=(224,224,3))\n",
    "scale_layer = keras.layers.Rescaling(scale=1 / 127.5, offset=-1)\n",
    "x = scale_layer(inputs)\n",
    "x = resnet_model(x, training=False)\n",
    "x = keras.layers.GlobalAveragePooling2D()(x)\n",
    "x = keras.layers.Dense(256,activation = 'relu')(x)\n",
    "x = keras.layers.Dense(128,activation = 'relu')(x)\n",
    "x = keras.layers.Dense(64, activation = 'relu')(x)\n",
    "outputs = keras.layers.Dense(39,activation='softmax')(x)\n",
    "resnet_model = keras.Model(inputs, outputs)\n",
    "resnet_model.summary(show_trainable=True)"
   ]
  },
  {
   "cell_type": "code",
   "execution_count": 27,
   "id": "882b7cf8",
   "metadata": {
    "execution": {
     "iopub.execute_input": "2024-09-10T00:19:21.799697Z",
     "iopub.status.busy": "2024-09-10T00:19:21.798884Z",
     "iopub.status.idle": "2024-09-10T00:19:21.808011Z",
     "shell.execute_reply": "2024-09-10T00:19:21.807314Z"
    },
    "papermill": {
     "duration": 0.616607,
     "end_time": "2024-09-10T00:19:21.809940",
     "exception": false,
     "start_time": "2024-09-10T00:19:21.193333",
     "status": "completed"
    },
    "tags": []
   },
   "outputs": [],
   "source": [
    "resnet_model.compile(optimizer='Adam',loss=tf.keras.losses.SparseCategoricalCrossentropy(from_logits=False),metrics=['accuracy'])"
   ]
  },
  {
   "cell_type": "code",
   "execution_count": 28,
   "id": "995f1a25",
   "metadata": {
    "execution": {
     "iopub.execute_input": "2024-09-10T00:19:23.061103Z",
     "iopub.status.busy": "2024-09-10T00:19:23.060716Z",
     "iopub.status.idle": "2024-09-10T00:44:11.303310Z",
     "shell.execute_reply": "2024-09-10T00:44:11.302286Z"
    },
    "papermill": {
     "duration": 1488.851832,
     "end_time": "2024-09-10T00:44:11.305344",
     "exception": false,
     "start_time": "2024-09-10T00:19:22.453512",
     "status": "completed"
    },
    "tags": []
   },
   "outputs": [
    {
     "name": "stdout",
     "output_type": "stream",
     "text": [
      "Epoch 1/30\n",
      "\u001b[1m200/200\u001b[0m \u001b[32m━━━━━━━━━━━━━━━━━━━━\u001b[0m\u001b[37m\u001b[0m \u001b[1m0s\u001b[0m 61ms/step - accuracy: 0.3734 - loss: 2.3836\n",
      "Epoch 1: val_accuracy did not improve from 0.84732\n",
      "\u001b[1m200/200\u001b[0m \u001b[32m━━━━━━━━━━━━━━━━━━━━\u001b[0m\u001b[37m\u001b[0m \u001b[1m69s\u001b[0m 259ms/step - accuracy: 0.3741 - loss: 2.3803 - val_accuracy: 0.5033 - val_loss: 6.6596 - learning_rate: 0.0010\n",
      "Epoch 2/30\n",
      "\u001b[1m200/200\u001b[0m \u001b[32m━━━━━━━━━━━━━━━━━━━━\u001b[0m\u001b[37m\u001b[0m \u001b[1m0s\u001b[0m 61ms/step - accuracy: 0.7206 - loss: 0.9112\n",
      "Epoch 2: val_accuracy did not improve from 0.84732\n",
      "\u001b[1m200/200\u001b[0m \u001b[32m━━━━━━━━━━━━━━━━━━━━\u001b[0m\u001b[37m\u001b[0m \u001b[1m48s\u001b[0m 241ms/step - accuracy: 0.7208 - loss: 0.9107 - val_accuracy: 0.6932 - val_loss: 5.0842 - learning_rate: 0.0010\n",
      "Epoch 3/30\n",
      "\u001b[1m200/200\u001b[0m \u001b[32m━━━━━━━━━━━━━━━━━━━━\u001b[0m\u001b[37m\u001b[0m \u001b[1m0s\u001b[0m 61ms/step - accuracy: 0.7715 - loss: 0.7211\n",
      "Epoch 3: val_accuracy did not improve from 0.84732\n",
      "\u001b[1m200/200\u001b[0m \u001b[32m━━━━━━━━━━━━━━━━━━━━\u001b[0m\u001b[37m\u001b[0m \u001b[1m48s\u001b[0m 240ms/step - accuracy: 0.7715 - loss: 0.7210 - val_accuracy: 0.7261 - val_loss: 1.7585 - learning_rate: 0.0010\n",
      "Epoch 4/30\n",
      "\u001b[1m200/200\u001b[0m \u001b[32m━━━━━━━━━━━━━━━━━━━━\u001b[0m\u001b[37m\u001b[0m \u001b[1m0s\u001b[0m 61ms/step - accuracy: 0.8096 - loss: 0.5997\n",
      "Epoch 4: val_accuracy did not improve from 0.84732\n",
      "\u001b[1m200/200\u001b[0m \u001b[32m━━━━━━━━━━━━━━━━━━━━\u001b[0m\u001b[37m\u001b[0m \u001b[1m48s\u001b[0m 240ms/step - accuracy: 0.8096 - loss: 0.5996 - val_accuracy: 0.8328 - val_loss: 0.6555 - learning_rate: 0.0010\n",
      "Epoch 5/30\n",
      "\u001b[1m200/200\u001b[0m \u001b[32m━━━━━━━━━━━━━━━━━━━━\u001b[0m\u001b[37m\u001b[0m \u001b[1m0s\u001b[0m 60ms/step - accuracy: 0.8433 - loss: 0.4971\n",
      "Epoch 5: val_accuracy improved from 0.84732 to 0.84878, saving model to /content/model.keras\n",
      "\u001b[1m200/200\u001b[0m \u001b[32m━━━━━━━━━━━━━━━━━━━━\u001b[0m\u001b[37m\u001b[0m \u001b[1m49s\u001b[0m 245ms/step - accuracy: 0.8433 - loss: 0.4970 - val_accuracy: 0.8488 - val_loss: 0.4844 - learning_rate: 0.0010\n",
      "Epoch 6/30\n",
      "\u001b[1m200/200\u001b[0m \u001b[32m━━━━━━━━━━━━━━━━━━━━\u001b[0m\u001b[37m\u001b[0m \u001b[1m0s\u001b[0m 61ms/step - accuracy: 0.8572 - loss: 0.4649\n",
      "Epoch 6: val_accuracy did not improve from 0.84878\n",
      "\u001b[1m200/200\u001b[0m \u001b[32m━━━━━━━━━━━━━━━━━━━━\u001b[0m\u001b[37m\u001b[0m \u001b[1m48s\u001b[0m 240ms/step - accuracy: 0.8572 - loss: 0.4648 - val_accuracy: 0.8474 - val_loss: 0.5091 - learning_rate: 0.0010\n",
      "Epoch 7/30\n",
      "\u001b[1m200/200\u001b[0m \u001b[32m━━━━━━━━━━━━━━━━━━━━\u001b[0m\u001b[37m\u001b[0m \u001b[1m0s\u001b[0m 60ms/step - accuracy: 0.8510 - loss: 0.4563\n",
      "Epoch 7: val_accuracy improved from 0.84878 to 0.84881, saving model to /content/model.keras\n",
      "\u001b[1m200/200\u001b[0m \u001b[32m━━━━━━━━━━━━━━━━━━━━\u001b[0m\u001b[37m\u001b[0m \u001b[1m49s\u001b[0m 245ms/step - accuracy: 0.8511 - loss: 0.4562 - val_accuracy: 0.8488 - val_loss: 0.7272 - learning_rate: 0.0010\n",
      "Epoch 8/30\n",
      "\u001b[1m200/200\u001b[0m \u001b[32m━━━━━━━━━━━━━━━━━━━━\u001b[0m\u001b[37m\u001b[0m \u001b[1m0s\u001b[0m 60ms/step - accuracy: 0.8744 - loss: 0.3927\n",
      "Epoch 8: val_accuracy improved from 0.84881 to 0.86957, saving model to /content/model.keras\n",
      "\u001b[1m200/200\u001b[0m \u001b[32m━━━━━━━━━━━━━━━━━━━━\u001b[0m\u001b[37m\u001b[0m \u001b[1m49s\u001b[0m 246ms/step - accuracy: 0.8743 - loss: 0.3928 - val_accuracy: 0.8696 - val_loss: 0.3990 - learning_rate: 0.0010\n",
      "Epoch 9/30\n",
      "\u001b[1m200/200\u001b[0m \u001b[32m━━━━━━━━━━━━━━━━━━━━\u001b[0m\u001b[37m\u001b[0m \u001b[1m0s\u001b[0m 60ms/step - accuracy: 0.8732 - loss: 0.3808\n",
      "Epoch 9: val_accuracy improved from 0.86957 to 0.87176, saving model to /content/model.keras\n",
      "\u001b[1m200/200\u001b[0m \u001b[32m━━━━━━━━━━━━━━━━━━━━\u001b[0m\u001b[37m\u001b[0m \u001b[1m49s\u001b[0m 246ms/step - accuracy: 0.8732 - loss: 0.3808 - val_accuracy: 0.8718 - val_loss: 0.4018 - learning_rate: 0.0010\n",
      "Epoch 10/30\n",
      "\u001b[1m200/200\u001b[0m \u001b[32m━━━━━━━━━━━━━━━━━━━━\u001b[0m\u001b[37m\u001b[0m \u001b[1m0s\u001b[0m 60ms/step - accuracy: 0.8691 - loss: 0.3910\n",
      "Epoch 10: val_accuracy did not improve from 0.87176\n",
      "\u001b[1m200/200\u001b[0m \u001b[32m━━━━━━━━━━━━━━━━━━━━\u001b[0m\u001b[37m\u001b[0m \u001b[1m48s\u001b[0m 239ms/step - accuracy: 0.8692 - loss: 0.3909 - val_accuracy: 0.8714 - val_loss: 0.4404 - learning_rate: 0.0010\n",
      "Epoch 11/30\n",
      "\u001b[1m200/200\u001b[0m \u001b[32m━━━━━━━━━━━━━━━━━━━━\u001b[0m\u001b[37m\u001b[0m \u001b[1m0s\u001b[0m 60ms/step - accuracy: 0.8840 - loss: 0.3610\n",
      "Epoch 11: val_accuracy improved from 0.87176 to 0.89214, saving model to /content/model.keras\n",
      "\u001b[1m200/200\u001b[0m \u001b[32m━━━━━━━━━━━━━━━━━━━━\u001b[0m\u001b[37m\u001b[0m \u001b[1m49s\u001b[0m 247ms/step - accuracy: 0.8840 - loss: 0.3610 - val_accuracy: 0.8921 - val_loss: 0.3463 - learning_rate: 0.0010\n",
      "Epoch 12/30\n",
      "\u001b[1m200/200\u001b[0m \u001b[32m━━━━━━━━━━━━━━━━━━━━\u001b[0m\u001b[37m\u001b[0m \u001b[1m0s\u001b[0m 60ms/step - accuracy: 0.8829 - loss: 0.3757\n",
      "Epoch 12: val_accuracy improved from 0.89214 to 0.89347, saving model to /content/model.keras\n",
      "\u001b[1m200/200\u001b[0m \u001b[32m━━━━━━━━━━━━━━━━━━━━\u001b[0m\u001b[37m\u001b[0m \u001b[1m49s\u001b[0m 246ms/step - accuracy: 0.8830 - loss: 0.3755 - val_accuracy: 0.8935 - val_loss: 0.3327 - learning_rate: 0.0010\n",
      "Epoch 13/30\n",
      "\u001b[1m200/200\u001b[0m \u001b[32m━━━━━━━━━━━━━━━━━━━━\u001b[0m\u001b[37m\u001b[0m \u001b[1m0s\u001b[0m 60ms/step - accuracy: 0.8967 - loss: 0.3259\n",
      "Epoch 13: val_accuracy did not improve from 0.89347\n",
      "\u001b[1m200/200\u001b[0m \u001b[32m━━━━━━━━━━━━━━━━━━━━\u001b[0m\u001b[37m\u001b[0m \u001b[1m48s\u001b[0m 239ms/step - accuracy: 0.8967 - loss: 0.3259 - val_accuracy: 0.8933 - val_loss: 0.3332 - learning_rate: 0.0010\n",
      "Epoch 14/30\n",
      "\u001b[1m200/200\u001b[0m \u001b[32m━━━━━━━━━━━━━━━━━━━━\u001b[0m\u001b[37m\u001b[0m \u001b[1m0s\u001b[0m 60ms/step - accuracy: 0.8872 - loss: 0.3554\n",
      "Epoch 14: val_accuracy did not improve from 0.89347\n",
      "\u001b[1m200/200\u001b[0m \u001b[32m━━━━━━━━━━━━━━━━━━━━\u001b[0m\u001b[37m\u001b[0m \u001b[1m48s\u001b[0m 239ms/step - accuracy: 0.8872 - loss: 0.3554 - val_accuracy: 0.8778 - val_loss: 0.3907 - learning_rate: 0.0010\n",
      "Epoch 15/30\n",
      "\u001b[1m200/200\u001b[0m \u001b[32m━━━━━━━━━━━━━━━━━━━━\u001b[0m\u001b[37m\u001b[0m \u001b[1m0s\u001b[0m 60ms/step - accuracy: 0.8988 - loss: 0.3158\n",
      "Epoch 15: val_accuracy improved from 0.89347 to 0.90350, saving model to /content/model.keras\n",
      "\u001b[1m200/200\u001b[0m \u001b[32m━━━━━━━━━━━━━━━━━━━━\u001b[0m\u001b[37m\u001b[0m \u001b[1m49s\u001b[0m 246ms/step - accuracy: 0.8988 - loss: 0.3158 - val_accuracy: 0.9035 - val_loss: 0.3133 - learning_rate: 0.0010\n",
      "Epoch 16/30\n",
      "\u001b[1m200/200\u001b[0m \u001b[32m━━━━━━━━━━━━━━━━━━━━\u001b[0m\u001b[37m\u001b[0m \u001b[1m0s\u001b[0m 60ms/step - accuracy: 0.8942 - loss: 0.3112\n",
      "Epoch 16: val_accuracy improved from 0.90350 to 0.90401, saving model to /content/model.keras\n",
      "\u001b[1m200/200\u001b[0m \u001b[32m━━━━━━━━━━━━━━━━━━━━\u001b[0m\u001b[37m\u001b[0m \u001b[1m49s\u001b[0m 246ms/step - accuracy: 0.8942 - loss: 0.3112 - val_accuracy: 0.9040 - val_loss: 0.2930 - learning_rate: 0.0010\n",
      "Epoch 17/30\n",
      "\u001b[1m200/200\u001b[0m \u001b[32m━━━━━━━━━━━━━━━━━━━━\u001b[0m\u001b[37m\u001b[0m \u001b[1m0s\u001b[0m 60ms/step - accuracy: 0.8909 - loss: 0.3311\n",
      "Epoch 17: val_accuracy did not improve from 0.90401\n",
      "\u001b[1m200/200\u001b[0m \u001b[32m━━━━━━━━━━━━━━━━━━━━\u001b[0m\u001b[37m\u001b[0m \u001b[1m48s\u001b[0m 239ms/step - accuracy: 0.8909 - loss: 0.3311 - val_accuracy: 0.8867 - val_loss: 0.3554 - learning_rate: 0.0010\n",
      "Epoch 18/30\n",
      "\u001b[1m200/200\u001b[0m \u001b[32m━━━━━━━━━━━━━━━━━━━━\u001b[0m\u001b[37m\u001b[0m \u001b[1m0s\u001b[0m 60ms/step - accuracy: 0.8941 - loss: 0.3163\n",
      "Epoch 18: val_accuracy did not improve from 0.90401\n",
      "\u001b[1m200/200\u001b[0m \u001b[32m━━━━━━━━━━━━━━━━━━━━\u001b[0m\u001b[37m\u001b[0m \u001b[1m48s\u001b[0m 239ms/step - accuracy: 0.8941 - loss: 0.3163 - val_accuracy: 0.9031 - val_loss: 0.3857 - learning_rate: 0.0010\n",
      "Epoch 19/30\n",
      "\u001b[1m200/200\u001b[0m \u001b[32m━━━━━━━━━━━━━━━━━━━━\u001b[0m\u001b[37m\u001b[0m \u001b[1m0s\u001b[0m 60ms/step - accuracy: 0.9056 - loss: 0.2855\n",
      "Epoch 19: val_accuracy did not improve from 0.90401\n",
      "\u001b[1m200/200\u001b[0m \u001b[32m━━━━━━━━━━━━━━━━━━━━\u001b[0m\u001b[37m\u001b[0m \u001b[1m48s\u001b[0m 239ms/step - accuracy: 0.9056 - loss: 0.2855 - val_accuracy: 0.8924 - val_loss: 0.3553 - learning_rate: 0.0010\n",
      "Epoch 20/30\n",
      "\u001b[1m139/200\u001b[0m \u001b[32m━━━━━━━━━━━━━\u001b[0m\u001b[37m━━━━━━━\u001b[0m \u001b[1m5s\u001b[0m 93ms/step - accuracy: 0.9061 - loss: 0.2884\n",
      "Epoch 20: val_accuracy did not improve from 0.90401\n",
      "\u001b[1m200/200\u001b[0m \u001b[32m━━━━━━━━━━━━━━━━━━━━\u001b[0m\u001b[37m\u001b[0m \u001b[1m49s\u001b[0m 244ms/step - accuracy: 0.9054 - loss: 0.2891 - val_accuracy: 0.8928 - val_loss: 0.3519 - learning_rate: 0.0010\n",
      "Epoch 21/30\n",
      "\u001b[1m200/200\u001b[0m \u001b[32m━━━━━━━━━━━━━━━━━━━━\u001b[0m\u001b[37m\u001b[0m \u001b[1m0s\u001b[0m 61ms/step - accuracy: 0.9022 - loss: 0.3139\n",
      "Epoch 21: val_accuracy improved from 0.90401 to 0.90954, saving model to /content/model.keras\n",
      "\u001b[1m200/200\u001b[0m \u001b[32m━━━━━━━━━━━━━━━━━━━━\u001b[0m\u001b[37m\u001b[0m \u001b[1m49s\u001b[0m 247ms/step - accuracy: 0.9023 - loss: 0.3137 - val_accuracy: 0.9095 - val_loss: 0.4816 - learning_rate: 0.0010\n",
      "Epoch 22/30\n",
      "\u001b[1m200/200\u001b[0m \u001b[32m━━━━━━━━━━━━━━━━━━━━\u001b[0m\u001b[37m\u001b[0m \u001b[1m0s\u001b[0m 61ms/step - accuracy: 0.9195 - loss: 0.2536\n",
      "Epoch 22: val_accuracy did not improve from 0.90954\n",
      "\u001b[1m200/200\u001b[0m \u001b[32m━━━━━━━━━━━━━━━━━━━━\u001b[0m\u001b[37m\u001b[0m \u001b[1m48s\u001b[0m 240ms/step - accuracy: 0.9195 - loss: 0.2536 - val_accuracy: 0.9087 - val_loss: 0.2870 - learning_rate: 0.0010\n",
      "Epoch 23/30\n",
      "\u001b[1m200/200\u001b[0m \u001b[32m━━━━━━━━━━━━━━━━━━━━\u001b[0m\u001b[37m\u001b[0m \u001b[1m0s\u001b[0m 61ms/step - accuracy: 0.9136 - loss: 0.2577\n",
      "Epoch 23: val_accuracy did not improve from 0.90954\n",
      "\u001b[1m200/200\u001b[0m \u001b[32m━━━━━━━━━━━━━━━━━━━━\u001b[0m\u001b[37m\u001b[0m \u001b[1m48s\u001b[0m 240ms/step - accuracy: 0.9136 - loss: 0.2578 - val_accuracy: 0.9091 - val_loss: 0.2840 - learning_rate: 0.0010\n",
      "Epoch 24/30\n",
      "\u001b[1m200/200\u001b[0m \u001b[32m━━━━━━━━━━━━━━━━━━━━\u001b[0m\u001b[37m\u001b[0m \u001b[1m0s\u001b[0m 61ms/step - accuracy: 0.9176 - loss: 0.2549\n",
      "Epoch 24: val_accuracy did not improve from 0.90954\n",
      "\u001b[1m200/200\u001b[0m \u001b[32m━━━━━━━━━━━━━━━━━━━━\u001b[0m\u001b[37m\u001b[0m \u001b[1m48s\u001b[0m 240ms/step - accuracy: 0.9176 - loss: 0.2548 - val_accuracy: 0.8952 - val_loss: 0.3270 - learning_rate: 0.0010\n",
      "Epoch 25/30\n",
      "\u001b[1m200/200\u001b[0m \u001b[32m━━━━━━━━━━━━━━━━━━━━\u001b[0m\u001b[37m\u001b[0m \u001b[1m0s\u001b[0m 61ms/step - accuracy: 0.9271 - loss: 0.2293\n",
      "Epoch 25: val_accuracy improved from 0.90954 to 0.91592, saving model to /content/model.keras\n",
      "\u001b[1m200/200\u001b[0m \u001b[32m━━━━━━━━━━━━━━━━━━━━\u001b[0m\u001b[37m\u001b[0m \u001b[1m49s\u001b[0m 247ms/step - accuracy: 0.9271 - loss: 0.2294 - val_accuracy: 0.9159 - val_loss: 0.2595 - learning_rate: 0.0010\n",
      "Epoch 26/30\n",
      "\u001b[1m200/200\u001b[0m \u001b[32m━━━━━━━━━━━━━━━━━━━━\u001b[0m\u001b[37m\u001b[0m \u001b[1m0s\u001b[0m 61ms/step - accuracy: 0.9217 - loss: 0.2438\n",
      "Epoch 26: val_accuracy did not improve from 0.91592\n",
      "\u001b[1m200/200\u001b[0m \u001b[32m━━━━━━━━━━━━━━━━━━━━\u001b[0m\u001b[37m\u001b[0m \u001b[1m48s\u001b[0m 240ms/step - accuracy: 0.9217 - loss: 0.2437 - val_accuracy: 0.8948 - val_loss: 0.3461 - learning_rate: 0.0010\n",
      "Epoch 27/30\n",
      "\u001b[1m200/200\u001b[0m \u001b[32m━━━━━━━━━━━━━━━━━━━━\u001b[0m\u001b[37m\u001b[0m \u001b[1m0s\u001b[0m 61ms/step - accuracy: 0.9163 - loss: 0.2455\n",
      "Epoch 27: val_accuracy did not improve from 0.91592\n",
      "\u001b[1m200/200\u001b[0m \u001b[32m━━━━━━━━━━━━━━━━━━━━\u001b[0m\u001b[37m\u001b[0m \u001b[1m48s\u001b[0m 240ms/step - accuracy: 0.9163 - loss: 0.2455 - val_accuracy: 0.9108 - val_loss: 0.2852 - learning_rate: 0.0010\n",
      "Epoch 28/30\n",
      "\u001b[1m200/200\u001b[0m \u001b[32m━━━━━━━━━━━━━━━━━━━━\u001b[0m\u001b[37m\u001b[0m \u001b[1m0s\u001b[0m 61ms/step - accuracy: 0.9236 - loss: 0.2285\n",
      "Epoch 28: val_accuracy improved from 0.91592 to 0.92687, saving model to /content/model.keras\n",
      "\u001b[1m200/200\u001b[0m \u001b[32m━━━━━━━━━━━━━━━━━━━━\u001b[0m\u001b[37m\u001b[0m \u001b[1m49s\u001b[0m 247ms/step - accuracy: 0.9236 - loss: 0.2285 - val_accuracy: 0.9269 - val_loss: 0.2301 - learning_rate: 0.0010\n",
      "Epoch 29/30\n",
      "\u001b[1m200/200\u001b[0m \u001b[32m━━━━━━━━━━━━━━━━━━━━\u001b[0m\u001b[37m\u001b[0m \u001b[1m0s\u001b[0m 61ms/step - accuracy: 0.9226 - loss: 0.2315\n",
      "Epoch 29: val_accuracy did not improve from 0.92687\n",
      "\u001b[1m200/200\u001b[0m \u001b[32m━━━━━━━━━━━━━━━━━━━━\u001b[0m\u001b[37m\u001b[0m \u001b[1m48s\u001b[0m 240ms/step - accuracy: 0.9226 - loss: 0.2314 - val_accuracy: 0.8925 - val_loss: 0.3592 - learning_rate: 0.0010\n",
      "Epoch 30/30\n",
      "\u001b[1m200/200\u001b[0m \u001b[32m━━━━━━━━━━━━━━━━━━━━\u001b[0m\u001b[37m\u001b[0m \u001b[1m0s\u001b[0m 61ms/step - accuracy: 0.9260 - loss: 0.2211\n",
      "Epoch 30: val_accuracy did not improve from 0.92687\n",
      "\u001b[1m200/200\u001b[0m \u001b[32m━━━━━━━━━━━━━━━━━━━━\u001b[0m\u001b[37m\u001b[0m \u001b[1m48s\u001b[0m 240ms/step - accuracy: 0.9261 - loss: 0.2210 - val_accuracy: 0.9113 - val_loss: 0.2731 - learning_rate: 0.0010\n"
     ]
    },
    {
     "data": {
      "text/plain": [
       "<keras.src.callbacks.history.History at 0x7ca864b00130>"
      ]
     },
     "execution_count": 28,
     "metadata": {},
     "output_type": "execute_result"
    }
   ],
   "source": [
    "resnet_model.fit(train_dataset,validation_data=validation_dataset,epochs=30,steps_per_epoch=200,verbose=1,callbacks=[mc,es,lr])"
   ]
  },
  {
   "cell_type": "code",
   "execution_count": 29,
   "id": "13daf28d",
   "metadata": {
    "execution": {
     "iopub.execute_input": "2024-09-10T00:44:13.518232Z",
     "iopub.status.busy": "2024-09-10T00:44:13.517846Z",
     "iopub.status.idle": "2024-09-10T00:45:00.981958Z",
     "shell.execute_reply": "2024-09-10T00:45:00.981050Z"
    },
    "papermill": {
     "duration": 48.593366,
     "end_time": "2024-09-10T00:45:00.983801",
     "exception": false,
     "start_time": "2024-09-10T00:44:12.390435",
     "status": "completed"
    },
    "tags": []
   },
   "outputs": [
    {
     "name": "stdout",
     "output_type": "stream",
     "text": [
      "\u001b[1m1231/1231\u001b[0m \u001b[32m━━━━━━━━━━━━━━━━━━━━\u001b[0m\u001b[37m\u001b[0m \u001b[1m47s\u001b[0m 39ms/step - accuracy: 0.9112 - loss: 0.2783\n"
     ]
    },
    {
     "data": {
      "text/plain": [
       "[0.2791484296321869, 0.9117789268493652]"
      ]
     },
     "execution_count": 29,
     "metadata": {},
     "output_type": "execute_result"
    }
   ],
   "source": [
    "resnet_model.evaluate(test_dataset)"
   ]
  },
  {
   "cell_type": "code",
   "execution_count": 30,
   "id": "7faa2c17",
   "metadata": {
    "execution": {
     "iopub.execute_input": "2024-09-10T00:45:03.356044Z",
     "iopub.status.busy": "2024-09-10T00:45:03.355659Z",
     "iopub.status.idle": "2024-09-10T00:45:03.966438Z",
     "shell.execute_reply": "2024-09-10T00:45:03.965670Z"
    },
    "papermill": {
     "duration": 1.791993,
     "end_time": "2024-09-10T00:45:03.968800",
     "exception": false,
     "start_time": "2024-09-10T00:45:02.176807",
     "status": "completed"
    },
    "tags": []
   },
   "outputs": [],
   "source": [
    "resnet_model.save('resnet_frozen_150_layers.h5')"
   ]
  },
  {
   "cell_type": "code",
   "execution_count": null,
   "id": "704b59c1",
   "metadata": {
    "papermill": {
     "duration": 1.176619,
     "end_time": "2024-09-10T00:45:06.284433",
     "exception": false,
     "start_time": "2024-09-10T00:45:05.107814",
     "status": "completed"
    },
    "tags": []
   },
   "outputs": [],
   "source": []
  }
 ],
 "metadata": {
  "kaggle": {
   "accelerator": "gpu",
   "dataSources": [
    {
     "datasetId": 5667867,
     "sourceId": 9350391,
     "sourceType": "datasetVersion"
    }
   ],
   "dockerImageVersionId": 30761,
   "isGpuEnabled": true,
   "isInternetEnabled": true,
   "language": "python",
   "sourceType": "notebook"
  },
  "kernelspec": {
   "display_name": "Python 3",
   "language": "python",
   "name": "python3"
  },
  "language_info": {
   "codemirror_mode": {
    "name": "ipython",
    "version": 3
   },
   "file_extension": ".py",
   "mimetype": "text/x-python",
   "name": "python",
   "nbconvert_exporter": "python",
   "pygments_lexer": "ipython3",
   "version": "3.10.14"
  },
  "papermill": {
   "default_parameters": {},
   "duration": 3898.11387,
   "end_time": "2024-09-10T00:45:10.634142",
   "environment_variables": {},
   "exception": null,
   "input_path": "__notebook__.ipynb",
   "output_path": "__notebook__.ipynb",
   "parameters": {},
   "start_time": "2024-09-09T23:40:12.520272",
   "version": "2.6.0"
  }
 },
 "nbformat": 4,
 "nbformat_minor": 5
}
